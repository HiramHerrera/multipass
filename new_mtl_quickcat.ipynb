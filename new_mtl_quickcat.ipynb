{
 "cells": [
  {
   "cell_type": "code",
   "execution_count": 5,
   "metadata": {},
   "outputs": [],
   "source": [
    "from astropy.table import Table\n",
    "import numpy as np\n",
    "import matplotlib.pyplot as plt\n",
    "import mtl\n",
    "import quickcat\n",
    "from importlib import reload\n",
    "\n",
    "%matplotlib inline"
   ]
  },
  {
   "cell_type": "code",
   "execution_count": 3,
   "metadata": {},
   "outputs": [],
   "source": [
    "# global truth file\n",
    "truth = Table.read(\"targets/subset_truth_dr8_mtl_dark_gray_NGC.fits\")\n",
    "\n",
    "# This is the input to fiberassign\n",
    "old_mtl = Table.read(\"strategy_A/targets/full_subset_dr8_mtl_dark_gray_northern_cap.fits\")\n",
    "\n",
    "# This is the results of fiberassign\n",
    "fibertiles = glob.glob(\"strategy_A/fiberassign_gray/tile-*.fits\")\n",
    "\n",
    "# This is the final zcat after the run\n",
    "zcat = Table.read(\"strategy_A/zcat/gray_zcat.fits\")\n",
    "\n",
    "# This is the new mtl after using zcat\n",
    "new_mtl = Table.read(\"strategy_A/targets/dark0_subset_dr8_mtl_dark_gray_northern_cap.fits\")"
   ]
  },
  {
   "cell_type": "code",
   "execution_count": 6,
   "metadata": {},
   "outputs": [
    {
     "name": "stdout",
     "output_type": "stream",
     "text": [
      "4139902 4139902 4139902 218682 48\n"
     ]
    }
   ],
   "source": [
    "print(len(truth), len(old_mtl), len(new_mtl), len(zcat), len(fibertiles))"
   ]
  },
  {
   "cell_type": "code",
   "execution_count": 6,
   "metadata": {},
   "outputs": [],
   "source": [
    "mtl = reload(mtl)\n",
    "quickcat = reload(quickcat)"
   ]
  },
  {
   "cell_type": "code",
   "execution_count": null,
   "metadata": {},
   "outputs": [],
   "source": []
  }
 ],
 "metadata": {
  "kernelspec": {
   "display_name": "DESI master",
   "language": "python",
   "name": "desi-master"
  },
  "language_info": {
   "codemirror_mode": {
    "name": "ipython",
    "version": 3
   },
   "file_extension": ".py",
   "mimetype": "text/x-python",
   "name": "python",
   "nbconvert_exporter": "python",
   "pygments_lexer": "ipython3",
   "version": "3.6.6"
  }
 },
 "nbformat": 4,
 "nbformat_minor": 4
}
