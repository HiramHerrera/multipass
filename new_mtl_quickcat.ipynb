{
 "cells": [
  {
   "cell_type": "code",
   "execution_count": 1,
   "metadata": {},
   "outputs": [],
   "source": [
    "from astropy.table import Table\n",
    "import numpy as np\n",
    "import matplotlib.pyplot as plt\n",
    "\n",
    "from importlib import reload\n",
    "import glob\n",
    "from desitarget.targetmask import desi_mask, obsconditions\n",
    "\n",
    "import mtl\n",
    "import targets\n",
    "import desitarget.mtl\n",
    "import desitarget.targets\n",
    "\n",
    "%matplotlib inline"
   ]
  },
  {
   "cell_type": "code",
   "execution_count": 2,
   "metadata": {},
   "outputs": [],
   "source": [
    "# global truth file\n",
    "truth = Table.read(\"targets/subset_truth_dr8_mtl_dark_gray_NGC.fits\")\n",
    "\n",
    "# This is the input to fiberassign\n",
    "full_mtl = Table.read(\"strategy_A/targets/dark1_subset_dr8_mtl_dark_gray_northern_cap.fits\")\n",
    "\n",
    "# This is the results of fiberassign\n",
    "fibertiles = glob.glob(\"strategy_A/fiberassign_gray/tile-*.fits\")\n",
    "\n",
    "# This is the final zcat after the run\n",
    "zcat = Table.read(\"strategy_A/zcat/dark1_zcat.fits\")\n",
    "\n",
    "# This is the new mtl after using zcat\n",
    "new_mtl = Table.read(\"strategy_A/targets/dark0_subset_dr8_mtl_dark_gray_northern_cap.fits\")"
   ]
  },
  {
   "cell_type": "code",
   "execution_count": 3,
   "metadata": {},
   "outputs": [
    {
     "data": {
      "text/plain": [
       "{'GALAXY', 'QSO', 'STAR'}"
      ]
     },
     "execution_count": 3,
     "metadata": {},
     "output_type": "execute_result"
    }
   ],
   "source": [
    "set(zcat[\"SPECTYPE\"])"
   ]
  },
  {
   "cell_type": "code",
   "execution_count": 4,
   "metadata": {},
   "outputs": [
    {
     "name": "stdout",
     "output_type": "stream",
     "text": [
      "4139902 4139902 4139902 565983 48\n"
     ]
    }
   ],
   "source": [
    "print(len(truth), len(full_mtl), len(new_mtl), len(zcat), len(fibertiles))"
   ]
  },
  {
   "cell_type": "code",
   "execution_count": 5,
   "metadata": {},
   "outputs": [
    {
     "name": "stdout",
     "output_type": "stream",
     "text": [
      "165325\n",
      "53853\n",
      "27786\n",
      "7054\n"
     ]
    }
   ],
   "source": [
    "# select cases of DESI_TARGET!=0 that are also BGS_ANY or MWS_ANY\n",
    "is_qso = (full_mtl['DESI_TARGET']&desi_mask.QSO)!=0\n",
    "is_elg = (full_mtl['DESI_TARGET']&desi_mask.ELG)!=0\n",
    "is_bgs_any = (full_mtl['DESI_TARGET']&desi_mask.BGS_ANY)!=0\n",
    "is_mws_any = (full_mtl['DESI_TARGET']&desi_mask.MWS_ANY)!=0\n",
    "is_qso_only = is_qso & (~is_elg) & (~is_bgs_any) & (~is_mws_any)\n",
    "is_elg_only = is_elg & (~is_qso) & (~is_bgs_any) & (~is_mws_any)\n",
    "is_qso_and_bgs = is_qso & is_bgs_any\n",
    "is_qso_and_elg = is_qso & is_elg\n",
    "\n",
    "print(np.count_nonzero(is_qso_only))\n",
    "print(np.count_nonzero(is_qso_and_elg))\n",
    "print(np.count_nonzero(is_bgs_any & is_qso))\n",
    "print(np.count_nonzero(is_mws_any & is_qso))"
   ]
  },
  {
   "cell_type": "code",
   "execution_count": 6,
   "metadata": {},
   "outputs": [],
   "source": [
    "mtl = reload(mtl)\n",
    "targets = reload(targets)"
   ]
  },
  {
   "cell_type": "code",
   "execution_count": 7,
   "metadata": {},
   "outputs": [
    {
     "data": {
      "text/html": [
       "&lt;Table length=10&gt;\n",
       "<table id=\"table46912677968584\" class=\"table-striped table-bordered table-condensed\">\n",
       "<thead><tr><th>RA</th><th>DEC</th><th>TARGETID</th><th>DESI_TARGET</th><th>BGS_TARGET</th><th>MWS_TARGET</th><th>PRIORITY_INIT</th><th>SUBPRIORITY</th><th>NUMOBS_INIT</th><th>HPXPIXEL</th><th>NUMOBS_MORE</th><th>PRIORITY</th><th>OBSCONDITIONS</th></tr></thead>\n",
       "<thead><tr><th>float64</th><th>float64</th><th>int64</th><th>int64</th><th>int64</th><th>int64</th><th>int64</th><th>float64</th><th>int64</th><th>int64</th><th>int64</th><th>int64</th><th>int32</th></tr></thead>\n",
       "<tr><td>163.335356587</td><td>-0.604994458379</td><td>35185748411941018</td><td>262148</td><td>0</td><td>0</td><td>3400</td><td>0.120315736953</td><td>4</td><td>27023</td><td>4</td><td>3400</td><td>1</td></tr>\n",
       "<tr><td>163.383481929</td><td>-0.603631784248</td><td>35185748411941330</td><td>262148</td><td>0</td><td>0</td><td>3400</td><td>0.947191403352</td><td>4</td><td>27023</td><td>4</td><td>3400</td><td>1</td></tr>\n",
       "<tr><td>163.404682212</td><td>-0.576845058547</td><td>35185748411941875</td><td>262148</td><td>0</td><td>0</td><td>3400</td><td>0.301269395122</td><td>4</td><td>27023</td><td>4</td><td>3400</td><td>1</td></tr>\n",
       "<tr><td>163.484241573</td><td>-0.524829820853</td><td>35185748411942838</td><td>262148</td><td>0</td><td>0</td><td>3400</td><td>0.774462650836</td><td>4</td><td>27023</td><td>4</td><td>3400</td><td>1</td></tr>\n",
       "<tr><td>163.258374217</td><td>-0.514782378641</td><td>35185748411942969</td><td>262148</td><td>0</td><td>0</td><td>3400</td><td>0.855551816096</td><td>4</td><td>27023</td><td>4</td><td>3400</td><td>1</td></tr>\n",
       "<tr><td>163.327007644</td><td>-0.510185374596</td><td>35185748411943097</td><td>262148</td><td>0</td><td>0</td><td>3400</td><td>0.538996424223</td><td>4</td><td>27023</td><td>4</td><td>3400</td><td>1</td></tr>\n",
       "<tr><td>163.322190355</td><td>-0.47157725339</td><td>35185748411943860</td><td>262148</td><td>0</td><td>0</td><td>3400</td><td>0.25551012992</td><td>4</td><td>27023</td><td>4</td><td>3400</td><td>1</td></tr>\n",
       "<tr><td>163.416413221</td><td>-0.46517730371</td><td>35185748411943995</td><td>262148</td><td>0</td><td>0</td><td>3400</td><td>0.934074151249</td><td>4</td><td>27023</td><td>4</td><td>3400</td><td>1</td></tr>\n",
       "<tr><td>163.289844513</td><td>-0.426915114372</td><td>35185748411944726</td><td>262148</td><td>0</td><td>0</td><td>3400</td><td>0.231879625891</td><td>4</td><td>27023</td><td>4</td><td>3400</td><td>1</td></tr>\n",
       "<tr><td>163.323088476</td><td>-0.400016466106</td><td>35185748411945294</td><td>262148</td><td>0</td><td>0</td><td>3400</td><td>0.0518313947816</td><td>4</td><td>27023</td><td>4</td><td>3400</td><td>1</td></tr>\n",
       "</table>"
      ],
      "text/plain": [
       "<Table length=10>\n",
       "      RA            DEC            TARGETID     ... PRIORITY OBSCONDITIONS\n",
       "   float64        float64           int64       ...  int64       int32    \n",
       "------------- --------------- ----------------- ... -------- -------------\n",
       "163.335356587 -0.604994458379 35185748411941018 ...     3400             1\n",
       "163.383481929 -0.603631784248 35185748411941330 ...     3400             1\n",
       "163.404682212 -0.576845058547 35185748411941875 ...     3400             1\n",
       "163.484241573 -0.524829820853 35185748411942838 ...     3400             1\n",
       "163.258374217 -0.514782378641 35185748411942969 ...     3400             1\n",
       "163.327007644 -0.510185374596 35185748411943097 ...     3400             1\n",
       "163.322190355  -0.47157725339 35185748411943860 ...     3400             1\n",
       "163.416413221  -0.46517730371 35185748411943995 ...     3400             1\n",
       "163.289844513 -0.426915114372 35185748411944726 ...     3400             1\n",
       "163.323088476 -0.400016466106 35185748411945294 ...     3400             1"
      ]
     },
     "execution_count": 7,
     "metadata": {},
     "output_type": "execute_result"
    }
   ],
   "source": [
    "full_mtl[is_qso_only][:10]"
   ]
  },
  {
   "cell_type": "code",
   "execution_count": 8,
   "metadata": {},
   "outputs": [
    {
     "name": "stdout",
     "output_type": "stream",
     "text": [
      "{2.0, 3.0}\n"
     ]
    }
   ],
   "source": [
    "is_qso_only_in_zcat = np.in1d(zcat['TARGETID'], full_mtl['TARGETID'][is_qso_only])\n",
    "print(set(zcat[is_qso_only_in_zcat]['Z']))"
   ]
  },
  {
   "cell_type": "code",
   "execution_count": 9,
   "metadata": {},
   "outputs": [
    {
     "name": "stdout",
     "output_type": "stream",
     "text": [
      "{2.0, 3.0}\n"
     ]
    }
   ],
   "source": [
    "is_qso_only_in_zcat = np.in1d(zcat['TARGETID'], full_mtl['TARGETID'][is_qso_only])\n",
    "print(set(zcat[is_qso_only_in_zcat]['Z']))"
   ]
  },
  {
   "cell_type": "code",
   "execution_count": 10,
   "metadata": {},
   "outputs": [
    {
     "data": {
      "text/html": [
       "&lt;Table length=10&gt;\n",
       "<table id=\"table46912678010664\" class=\"table-striped table-bordered table-condensed\">\n",
       "<thead><tr><th>RA</th><th>DEC</th><th>TARGETID</th><th>DESI_TARGET</th><th>BGS_TARGET</th><th>MWS_TARGET</th><th>PRIORITY_INIT</th><th>SUBPRIORITY</th><th>NUMOBS_INIT</th><th>HPXPIXEL</th><th>NUMOBS_MORE</th><th>PRIORITY</th><th>OBSCONDITIONS</th></tr></thead>\n",
       "<thead><tr><th>float64</th><th>float64</th><th>int64</th><th>int64</th><th>int64</th><th>int64</th><th>int64</th><th>float64</th><th>int64</th><th>int64</th><th>int64</th><th>int64</th><th>int32</th></tr></thead>\n",
       "<tr><td>163.409892939</td><td>-0.467889237659</td><td>35185748411943948</td><td>3458764513820803076</td><td>262148</td><td>1280</td><td>3400</td><td>0.443406021263</td><td>4</td><td>27023</td><td>4</td><td>3400</td><td>7</td></tr>\n",
       "<tr><td>163.416488992</td><td>-0.406207875064</td><td>35185748411945199</td><td>1152921504607109124</td><td>262148</td><td>0</td><td>3400</td><td>0.468286447957</td><td>4</td><td>27023</td><td>4</td><td>3400</td><td>5</td></tr>\n",
       "<tr><td>163.384626236</td><td>-0.389135752321</td><td>35185748411945548</td><td>1152921504607109124</td><td>262148</td><td>0</td><td>3400</td><td>0.00996304762306</td><td>4</td><td>27023</td><td>4</td><td>3400</td><td>5</td></tr>\n",
       "<tr><td>163.948338835</td><td>-2.51105531989</td><td>35185700101949546</td><td>3458764513820803076</td><td>262148</td><td>1280</td><td>3400</td><td>0.234914107368</td><td>4</td><td>27014</td><td>4</td><td>3400</td><td>7</td></tr>\n",
       "<tr><td>163.295087239</td><td>-4.85720192471</td><td>35185645802488093</td><td>1152921504607109124</td><td>262148</td><td>0</td><td>3400</td><td>0.741749247155</td><td>4</td><td>26922</td><td>4</td><td>3400</td><td>5</td></tr>\n",
       "<tr><td>163.362903087</td><td>-4.81107962452</td><td>35185645802489082</td><td>3458764513820803076</td><td>262148</td><td>1280</td><td>3400</td><td>0.505486726042</td><td>4</td><td>26922</td><td>4</td><td>3400</td><td>7</td></tr>\n",
       "<tr><td>163.217154151</td><td>-4.75728790347</td><td>35185645802490243</td><td>1152921504607109124</td><td>262148</td><td>0</td><td>3400</td><td>0.798630463715</td><td>4</td><td>26922</td><td>4</td><td>3400</td><td>5</td></tr>\n",
       "<tr><td>163.202027582</td><td>-4.24031799567</td><td>35185657848531171</td><td>1152921504607109124</td><td>262148</td><td>0</td><td>3400</td><td>0.231919722975</td><td>4</td><td>27008</td><td>4</td><td>3400</td><td>5</td></tr>\n",
       "<tr><td>163.18158437</td><td>-4.23196332021</td><td>35185657848531322</td><td>1152921504607109124</td><td>262148</td><td>0</td><td>3400</td><td>0.175279856885</td><td>4</td><td>27008</td><td>4</td><td>3400</td><td>5</td></tr>\n",
       "<tr><td>163.001126943</td><td>-0.324456464798</td><td>35185754447545291</td><td>1152921504607109124</td><td>262148</td><td>0</td><td>3400</td><td>0.828175583156</td><td>4</td><td>27023</td><td>4</td><td>3400</td><td>5</td></tr>\n",
       "</table>"
      ],
      "text/plain": [
       "<Table length=10>\n",
       "      RA            DEC            TARGETID     ... PRIORITY OBSCONDITIONS\n",
       "   float64        float64           int64       ...  int64       int32    \n",
       "------------- --------------- ----------------- ... -------- -------------\n",
       "163.409892939 -0.467889237659 35185748411943948 ...     3400             7\n",
       "163.416488992 -0.406207875064 35185748411945199 ...     3400             5\n",
       "163.384626236 -0.389135752321 35185748411945548 ...     3400             5\n",
       "163.948338835  -2.51105531989 35185700101949546 ...     3400             7\n",
       "163.295087239  -4.85720192471 35185645802488093 ...     3400             5\n",
       "163.362903087  -4.81107962452 35185645802489082 ...     3400             7\n",
       "163.217154151  -4.75728790347 35185645802490243 ...     3400             5\n",
       "163.202027582  -4.24031799567 35185657848531171 ...     3400             5\n",
       " 163.18158437  -4.23196332021 35185657848531322 ...     3400             5\n",
       "163.001126943 -0.324456464798 35185754447545291 ...     3400             5"
      ]
     },
     "execution_count": 10,
     "metadata": {},
     "output_type": "execute_result"
    }
   ],
   "source": [
    "full_mtl[is_qso_and_bgs][:10]"
   ]
  },
  {
   "cell_type": "code",
   "execution_count": 11,
   "metadata": {},
   "outputs": [
    {
     "name": "stdout",
     "output_type": "stream",
     "text": [
      "INFO:mtl.py:125:make_mtl: 453717 of 4139902 targets have priority zero, setting N_obs=0.\n",
      "{0, 1, 2, 3, 4}\n",
      "{0, 1, 2, 3, 4}\n",
      "{0, 1, 2, 3, 4}\n",
      "{0, 1}\n"
     ]
    }
   ],
   "source": [
    "mtl = reload(mtl)\n",
    "targets = reload(targets)\n",
    "new_code_mtl = mtl.make_mtl(full_mtl, zcat, bright=False)\n",
    "\n",
    "is_qso_only_aa = np.in1d(new_code_mtl['TARGETID'], full_mtl['TARGETID'][is_qso_only])\n",
    "print(set(new_code_mtl[is_qso_only_aa]['NUMOBS_MORE']))\n",
    "\n",
    "is_qso_and_bgs_aa = np.in1d(new_code_mtl['TARGETID'], full_mtl['TARGETID'][is_qso_and_bgs])\n",
    "print(set(new_code_mtl[is_qso_and_bgs_aa]['NUMOBS_MORE']))\n",
    "\n",
    "is_qso_and_elg_aa = np.in1d(new_code_mtl['TARGETID'], full_mtl['TARGETID'][is_qso_and_elg])\n",
    "print(set(new_code_mtl[is_qso_and_elg_aa]['NUMOBS_MORE']))\n",
    "\n",
    "is_elg_only_aa = np.in1d(new_code_mtl['TARGETID'], full_mtl['TARGETID'][is_elg_only])\n",
    "print(set(new_code_mtl[is_elg_only_aa]['NUMOBS_MORE']))"
   ]
  },
  {
   "cell_type": "code",
   "execution_count": 12,
   "metadata": {},
   "outputs": [
    {
     "name": "stdout",
     "output_type": "stream",
     "text": [
      "INFO:mtl.py:119:make_mtl: 425984 of 4139902 targets have priority zero, setting N_obs=0.\n",
      "{0, 1, 2, 3, 4}\n",
      "{1, 4}\n",
      "{0, 1, 2, 3, 4}\n",
      "{0, 1}\n"
     ]
    }
   ],
   "source": [
    "old_code_mtl = desitarget.mtl.make_mtl(full_mtl, zcat)\n",
    "\n",
    "is_qso_only_aa = np.in1d(old_code_mtl['TARGETID'], full_mtl['TARGETID'][is_qso_only])\n",
    "print(set(old_code_mtl[is_qso_only_aa]['NUMOBS_MORE']))\n",
    "\n",
    "is_qso_and_bgs_aa = np.in1d(old_code_mtl['TARGETID'], full_mtl['TARGETID'][is_qso_and_bgs])\n",
    "print(set(old_code_mtl[is_qso_and_bgs_aa]['NUMOBS_MORE']))\n",
    "\n",
    "is_qso_and_elg_aa = np.in1d(old_code_mtl['TARGETID'], full_mtl['TARGETID'][is_qso_and_elg])\n",
    "print(set(old_code_mtl[is_qso_and_elg_aa]['NUMOBS_MORE']))\n",
    "\n",
    "is_elg_only_aa = np.in1d(old_code_mtl['TARGETID'], full_mtl['TARGETID'][is_elg_only])\n",
    "print(set(old_code_mtl[is_elg_only_aa]['NUMOBS_MORE']))"
   ]
  },
  {
   "cell_type": "code",
   "execution_count": null,
   "metadata": {},
   "outputs": [],
   "source": []
  }
 ],
 "metadata": {
  "kernelspec": {
   "display_name": "DESI master",
   "language": "python",
   "name": "desi-master"
  },
  "language_info": {
   "codemirror_mode": {
    "name": "ipython",
    "version": 3
   },
   "file_extension": ".py",
   "mimetype": "text/x-python",
   "name": "python",
   "nbconvert_exporter": "python",
   "pygments_lexer": "ipython3",
   "version": "3.6.6"
  }
 },
 "nbformat": 4,
 "nbformat_minor": 4
}
