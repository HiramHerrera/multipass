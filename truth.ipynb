{
 "cells": [
  {
   "cell_type": "code",
   "execution_count": 1,
   "metadata": {},
   "outputs": [],
   "source": [
    "from astropy.table import Table\n",
    "import numpy as np\n",
    "import matplotlib.pyplot as plt\n",
    "import glob\n",
    "import os\n",
    "import fitsio\n",
    "import desimodel.io\n",
    "import desitarget.mtl\n",
    "import desisim.quickcat\n",
    "from astropy.io import fits\n",
    "from astropy.table import Table, Column, vstack\n",
    "import json\n",
    "import shutil\n",
    "import healpy\n",
    "\n",
    "from desitarget.targetmask import desi_mask, obsconditions\n",
    "from collections import Counter\n",
    "import subprocess\n",
    "\n",
    "%matplotlib inline"
   ]
  },
  {
   "cell_type": "code",
   "execution_count": 2,
   "metadata": {},
   "outputs": [],
   "source": [
    "def assign_lya_qso(initial_mtl_file, pixweight_file):\n",
    "    targets = Table.read(initial_mtl_file)\n",
    "\n",
    "    pixweight, header = fits.getdata(pixweight_file, 'PIXWEIGHTS', header=True)\n",
    "    hpxnside = header['HPXNSIDE']\n",
    "\n",
    "    theta_w, phi_w = healpy.pix2ang(hpxnside, pixweight['HPXPIXEL'], nest=True)\n",
    "\n",
    "\n",
    "    hpxnside_sample = 64 # pixel area on which we will sample the lyaqso\n",
    "    npix_sample = healpy.nside2npix(hpxnside_sample)\n",
    "    pixnumber_sample = healpy.ang2pix(hpxnside_sample, theta_w, phi_w, nest=True)\n",
    "\n",
    "    subpixels = {} # store the pixels at the resolution in the input target catalog that are included within the pixels at the new resolution.\n",
    "    for i in range(npix_sample):\n",
    "        ii_sample = pixnumber_sample==i\n",
    "        subpixels[i] =  healpy.ang2pix(hpxnside, theta_w[ii_sample], phi_w[ii_sample], nest=True)\n",
    "    \n",
    "    \n",
    "    # redefine the covered area for the new pixels from the higher resolution FRACAREA\n",
    "    covered_area = np.ones(npix_sample)\n",
    "    for i in range(npix_sample):\n",
    "        sum_weight = np.sum(pixweight['FRACAREA'][subpixels[i]])\n",
    "        if sum_weight>0.0:\n",
    "            covered_area[i] = np.sum(pixweight['FRACAREA'][subpixels[i]]**2)/np.sum(pixweight['FRACAREA'][subpixels[i]])\n",
    "        else:\n",
    "            covered_area[i] = 0.0\n",
    "\n",
    "    theta_s, phi_s = healpy.pix2ang(hpxnside_sample, np.arange(npix_sample), nest=True)\n",
    "\n",
    "    pixelarea_sample = healpy.pixelfunc.nside2pixarea(hpxnside_sample, degrees=True)\n",
    "    n_lya_qso_in_pixel = np.int_(covered_area * 50 * pixelarea_sample)\n",
    "\n",
    "    # compute angular coordinates from the targets\n",
    "    targets_phi = np.deg2rad(targets['RA'])\n",
    "    targets_theta = np.deg2rad(90.0-targets['DEC'])\n",
    "\n",
    "    # find the pixnumber to which the target belongs (in the hpxnside_sample resolution)\n",
    "    pixnumber_targets = healpy.ang2pix(hpxnside_sample, targets_theta, targets_phi, nest=True)\n",
    "\n",
    "    \n",
    "    # what target are QSOs?\n",
    "    is_qso = (targets['DESI_TARGET'] & desi_mask.QSO)!=0\n",
    "\n",
    "    # list of unique pixels covered by the targets\n",
    "    pixnumber_target_list = list(set(pixnumber_targets)) # list of pixelsIDs covered by the targets in the new resolution\n",
    "\n",
    "    n_qso_per_pixel_targets = np.zeros(len(pixnumber_target_list))\n",
    "    for i in range(len(pixnumber_target_list)):\n",
    "        ii_targets = is_qso & (pixnumber_targets==pixnumber_target_list[i])\n",
    "        n_qso_per_pixel_targets[i] = np.count_nonzero(ii_targets)\n",
    "    \n",
    "    n_lya_desired_pixel_targets = np.random.poisson(n_lya_qso_in_pixel[pixnumber_target_list])\n",
    "\n",
    "    # Generate the boolean array to determine whether a target is a lyaqso or not\n",
    "    is_lya_qso = np.repeat(False, len(targets))\n",
    "    n_targets = len(targets)\n",
    "    target_ids = np.arange(n_targets)\n",
    "\n",
    "    for i in range(len(pixnumber_target_list)):\n",
    "        ii_targets = is_qso & (pixnumber_targets==pixnumber_target_list[i])\n",
    "        n_qso_in_pixel = np.count_nonzero(ii_targets)\n",
    "        n_lya_desired = np.random.poisson(n_qso_in_pixel)\n",
    "        if n_lya_desired >= n_qso_in_pixel:\n",
    "            is_lya_qso[ii_targets] = True\n",
    "        else:\n",
    "            #print(len(target_ids[ii_targets]), n_lya_desired)\n",
    "            ii_lya_qso = np.random.choice(target_ids[ii_targets], n_lya_desired, replace=False)\n",
    "            is_lya_qso[ii_lya_qso] = True\n",
    "    return is_lya_qso"
   ]
  },
  {
   "cell_type": "code",
   "execution_count": 4,
   "metadata": {},
   "outputs": [],
   "source": [
    "initial_Ztl_file = \"targets/subset_dr8_mtl_dark_gray_NGC.fits\"\n",
    "pixweight_file = \"/project/projectdirs/desi/target/catalogs/dr8/0.31.1/pixweight/pixweight-dr8-0.31.1.fits\"\n",
    "is_lya_qso = assign_lya_qso(initial_mtl_file, pixweight_file)"
   ]
  },
  {
   "cell_type": "code",
   "execution_count": 5,
   "metadata": {},
   "outputs": [],
   "source": [
    "initial_truth_file = \"targets/subset_truth_dr8_mtl_dark_gray_NGC.fits\"\n",
    "if not os.path.exists(initial_truth_file):\n",
    "    import desitarget.mock.mockmaker as mb\n",
    "    from desitarget.targetmask import desi_mask, bgs_mask, mws_mask\n",
    "\n",
    "    targets = Table.read(initial_mtl_file)\n",
    "    colnames = list(targets.dtype.names)\n",
    "    print(colnames)\n",
    "    nobj = len(targets)\n",
    "    truth = mb.empty_truth_table(nobj=nobj)[0]\n",
    "    print(truth.keys())\n",
    "\n",
    "    for k in colnames:\n",
    "        if k in truth.keys():\n",
    "            print(k)\n",
    "            truth[k][:] = targets[k][:]\n",
    "\n",
    "    nothing = '          '\n",
    "    truth['TEMPLATESUBTYPE'] = np.repeat(nothing, nobj)\n",
    "\n",
    "    masks = ['MWS_ANY', 'BGS_ANY', 'STD_FAINT', 'STD_BRIGHT','ELG', 'LRG', 'QSO', ]\n",
    "    dict_truespectype = {'BGS_ANY':'GALAXY', 'ELG':'GALAXY', 'LRG':'GALAXY', 'QSO':'QSO', \n",
    "                    'MWS_ANY':'STAR', 'STD_FAINT':'STAR', 'STD_BRIGHT':'STAR'}\n",
    "    dict_truetemplatetype = {'BGS_ANY':'BGS', 'ELG':'ELG', 'LRG':'LRG', 'QSO':'QSO', \n",
    "                        'MWS_ANY':'STAR', 'STD_FAINT':'STAR', 'STD_BRIGHT':'STAR'}\n",
    "    dict_truez = {'BGS_ANY':0.2, 'ELG':1.5, 'LRG':0.7, 'QSO':2.0, \n",
    "                        'MWS_ANY':0.0, 'STD_FAINT':0.0, 'STD_BRIGHT':0.0}\n",
    "\n",
    "    for m in masks:\n",
    "        istype = (targets['DESI_TARGET'] & desi_mask.mask(m))!=0\n",
    "        print(m, np.count_nonzero(istype))\n",
    "        truth['TRUESPECTYPE'][istype] = np.repeat(dict_truespectype[m], np.count_nonzero(istype))\n",
    "        truth['TEMPLATETYPE'][istype] = np.repeat(dict_truetemplatetype[m], np.count_nonzero(istype))\n",
    "        truth['MOCKID'][istype] = targets['TARGETID'][istype]\n",
    "        truth['TRUEZ'][istype] = dict_truez[m]\n",
    "\n",
    "        \n",
    "    truth['TRUEZ'][is_lya_qso] = 3.0\n",
    "    # Check that all targets have been assigned to a class\n",
    "    iii = truth['MOCKID']==0\n",
    "    assert np.count_nonzero(iii)==0\n",
    "    \n",
    "    print('writing truth')\n",
    "    truth.write(initial_truth_file, overwrite=True)\n",
    "    print('done truth')"
   ]
  },
  {
   "cell_type": "code",
   "execution_count": 43,
   "metadata": {},
   "outputs": [],
   "source": [
    "truth = Table.read(initial_truth_file)"
   ]
  },
  {
   "cell_type": "code",
   "execution_count": 44,
   "metadata": {},
   "outputs": [],
   "source": [
    "ii = (truth['TRUEZ']>2.0)"
   ]
  },
  {
   "cell_type": "code",
   "execution_count": 45,
   "metadata": {},
   "outputs": [
    {
     "data": {
      "text/plain": [
       "{'QSO'}"
      ]
     },
     "execution_count": 45,
     "metadata": {},
     "output_type": "execute_result"
    }
   ],
   "source": [
    "set(truth['TEMPLATETYPE'][ii])"
   ]
  },
  {
   "cell_type": "code",
   "execution_count": null,
   "metadata": {},
   "outputs": [],
   "source": []
  }
 ],
 "metadata": {
  "kernelspec": {
   "display_name": "DESI 19.2",
   "language": "python",
   "name": "desi-19.2"
  },
  "language_info": {
   "codemirror_mode": {
    "name": "ipython",
    "version": 3
   },
   "file_extension": ".py",
   "mimetype": "text/x-python",
   "name": "python",
   "nbconvert_exporter": "python",
   "pygments_lexer": "ipython3",
   "version": "3.6.6"
  }
 },
 "nbformat": 4,
 "nbformat_minor": 4
}
