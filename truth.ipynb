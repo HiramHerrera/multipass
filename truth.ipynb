{
 "cells": [
  {
   "cell_type": "code",
   "execution_count": 1,
   "metadata": {},
   "outputs": [],
   "source": [
    "from astropy.table import Table\n",
    "import numpy as np\n",
    "import matplotlib.pyplot as plt\n",
    "import glob\n",
    "import os\n",
    "import fitsio\n",
    "import desimodel.io\n",
    "import desitarget.mtl\n",
    "import desisim.quickcat\n",
    "from astropy.io import fits\n",
    "from astropy.table import Table, Column, vstack\n",
    "import json\n",
    "import shutil\n",
    "import healpy\n",
    "\n",
    "from desitarget.targetmask import desi_mask, obsconditions\n",
    "from collections import Counter\n",
    "import subprocess\n",
    "\n",
    "%matplotlib inline"
   ]
  },
  {
   "cell_type": "code",
   "execution_count": 20,
   "metadata": {},
   "outputs": [],
   "source": [
    "initial_mtl_file = \"targets/subset_dr8_mtl_dark_gray_NGC.fits\"\n",
    "pixweight_file = \"/project/projectdirs/desi/target/catalogs/dr8/0.31.1/pixweight/pixweight-dr8-0.31.1.fits\"\n",
    "initial_truth_file = \"targets/subset_truth_dr8_mtl_dark_gray_NGC.fits\""
   ]
  },
  {
   "cell_type": "code",
   "execution_count": 21,
   "metadata": {},
   "outputs": [],
   "source": [
    "truth = Table.read(initial_truth_file)\n",
    "initial_mtl = Table.read(initial_mtl_file)"
   ]
  },
  {
   "cell_type": "code",
   "execution_count": 22,
   "metadata": {},
   "outputs": [
    {
     "data": {
      "text/html": [
       "&lt;Table length=10&gt;\n",
       "<table id=\"table46913644072128\" class=\"table-striped table-bordered table-condensed\">\n",
       "<thead><tr><th>TARGETID</th><th>MOCKID</th><th>TRUEZ</th><th>TRUESPECTYPE</th><th>TEMPLATETYPE</th><th>TEMPLATESUBTYPE</th><th>TEMPLATEID</th><th>SEED</th><th>MAG</th><th>MAGFILTER</th><th>FLUX_G</th><th>FLUX_R</th><th>FLUX_Z</th><th>FLUX_W1</th><th>FLUX_W2</th><th>FLUX_W3</th><th>FLUX_W4</th></tr></thead>\n",
       "<thead><tr><th></th><th></th><th></th><th></th><th></th><th></th><th></th><th></th><th>mag</th><th></th><th>nanomaggies</th><th>nanomaggies</th><th>nanomaggies</th><th>nanomaggies</th><th>nanomaggies</th><th>nanomaggies</th><th>nanomaggies</th></tr></thead>\n",
       "<thead><tr><th>int64</th><th>int64</th><th>float32</th><th>str10</th><th>str10</th><th>str10</th><th>int32</th><th>int64</th><th>float32</th><th>str15</th><th>float32</th><th>float32</th><th>float32</th><th>float32</th><th>float32</th><th>float32</th><th>float32</th></tr></thead>\n",
       "<tr><td>35185748411940893</td><td>35185748411940893</td><td>0.2</td><td>GALAXY</td><td>BGS</td><td></td><td>-1</td><td>-1</td><td>0.0</td><td></td><td>0.0</td><td>0.0</td><td>0.0</td><td>0.0</td><td>0.0</td><td>0.0</td><td>0.0</td></tr>\n",
       "<tr><td>35185748411940915</td><td>35185748411940915</td><td>0.0</td><td>STAR</td><td>STAR</td><td></td><td>-1</td><td>-1</td><td>0.0</td><td></td><td>0.0</td><td>0.0</td><td>0.0</td><td>0.0</td><td>0.0</td><td>0.0</td><td>0.0</td></tr>\n",
       "<tr><td>35185748411940916</td><td>35185748411940916</td><td>0.0</td><td>STAR</td><td>STAR</td><td></td><td>-1</td><td>-1</td><td>0.0</td><td></td><td>0.0</td><td>0.0</td><td>0.0</td><td>0.0</td><td>0.0</td><td>0.0</td><td>0.0</td></tr>\n",
       "<tr><td>35185748411940925</td><td>35185748411940925</td><td>0.0</td><td>STAR</td><td>STAR</td><td></td><td>-1</td><td>-1</td><td>0.0</td><td></td><td>0.0</td><td>0.0</td><td>0.0</td><td>0.0</td><td>0.0</td><td>0.0</td><td>0.0</td></tr>\n",
       "<tr><td>35185748411940927</td><td>35185748411940927</td><td>1.5</td><td>GALAXY</td><td>ELG</td><td></td><td>-1</td><td>-1</td><td>0.0</td><td></td><td>0.0</td><td>0.0</td><td>0.0</td><td>0.0</td><td>0.0</td><td>0.0</td><td>0.0</td></tr>\n",
       "<tr><td>35185748411940947</td><td>35185748411940947</td><td>1.5</td><td>GALAXY</td><td>ELG</td><td></td><td>-1</td><td>-1</td><td>0.0</td><td></td><td>0.0</td><td>0.0</td><td>0.0</td><td>0.0</td><td>0.0</td><td>0.0</td><td>0.0</td></tr>\n",
       "<tr><td>35185748411940954</td><td>35185748411940954</td><td>1.5</td><td>GALAXY</td><td>ELG</td><td></td><td>-1</td><td>-1</td><td>0.0</td><td></td><td>0.0</td><td>0.0</td><td>0.0</td><td>0.0</td><td>0.0</td><td>0.0</td><td>0.0</td></tr>\n",
       "<tr><td>35185748411940960</td><td>35185748411940960</td><td>1.5</td><td>GALAXY</td><td>ELG</td><td></td><td>-1</td><td>-1</td><td>0.0</td><td></td><td>0.0</td><td>0.0</td><td>0.0</td><td>0.0</td><td>0.0</td><td>0.0</td><td>0.0</td></tr>\n",
       "<tr><td>35185748411940961</td><td>35185748411940961</td><td>1.5</td><td>GALAXY</td><td>ELG</td><td></td><td>-1</td><td>-1</td><td>0.0</td><td></td><td>0.0</td><td>0.0</td><td>0.0</td><td>0.0</td><td>0.0</td><td>0.0</td><td>0.0</td></tr>\n",
       "<tr><td>35185748411940971</td><td>35185748411940971</td><td>0.0</td><td>STAR</td><td>STAR</td><td></td><td>-1</td><td>-1</td><td>0.0</td><td></td><td>0.0</td><td>0.0</td><td>0.0</td><td>0.0</td><td>0.0</td><td>0.0</td><td>0.0</td></tr>\n",
       "</table>"
      ],
      "text/plain": [
       "<Table length=10>\n",
       "     TARGETID           MOCKID       TRUEZ  ...   FLUX_W3     FLUX_W4  \n",
       "                                            ... nanomaggies nanomaggies\n",
       "      int64             int64       float32 ...   float32     float32  \n",
       "----------------- ----------------- ------- ... ----------- -----------\n",
       "35185748411940893 35185748411940893     0.2 ...         0.0         0.0\n",
       "35185748411940915 35185748411940915     0.0 ...         0.0         0.0\n",
       "35185748411940916 35185748411940916     0.0 ...         0.0         0.0\n",
       "35185748411940925 35185748411940925     0.0 ...         0.0         0.0\n",
       "35185748411940927 35185748411940927     1.5 ...         0.0         0.0\n",
       "35185748411940947 35185748411940947     1.5 ...         0.0         0.0\n",
       "35185748411940954 35185748411940954     1.5 ...         0.0         0.0\n",
       "35185748411940960 35185748411940960     1.5 ...         0.0         0.0\n",
       "35185748411940961 35185748411940961     1.5 ...         0.0         0.0\n",
       "35185748411940971 35185748411940971     0.0 ...         0.0         0.0"
      ]
     },
     "execution_count": 22,
     "metadata": {},
     "output_type": "execute_result"
    }
   ],
   "source": [
    "truth[:10]"
   ]
  },
  {
   "cell_type": "code",
   "execution_count": 23,
   "metadata": {},
   "outputs": [
    {
     "data": {
      "text/html": [
       "&lt;Table length=10&gt;\n",
       "<table id=\"table46913644440824\" class=\"table-striped table-bordered table-condensed\">\n",
       "<thead><tr><th>RA</th><th>DEC</th><th>TARGETID</th><th>DESI_TARGET</th><th>BGS_TARGET</th><th>MWS_TARGET</th><th>PRIORITY_INIT</th><th>SUBPRIORITY</th><th>NUMOBS_INIT</th><th>HPXPIXEL</th><th>NUMOBS_MORE</th><th>PRIORITY</th><th>OBSCONDITIONS</th></tr></thead>\n",
       "<thead><tr><th>float64</th><th>float64</th><th>int64</th><th>int64</th><th>int64</th><th>int64</th><th>int64</th><th>float64</th><th>int64</th><th>int64</th><th>int64</th><th>int64</th><th>int32</th></tr></thead>\n",
       "<tr><td>163.252082455</td><td>-0.624211104073</td><td>35185748411940893</td><td>1152921504606846976</td><td>65537</td><td>0</td><td>2000</td><td>0.751984172406</td><td>1</td><td>27023</td><td>0</td><td>0</td><td>7</td></tr>\n",
       "<tr><td>163.413737215</td><td>-0.622343341717</td><td>35185748411940915</td><td>2305843009213693952</td><td>0</td><td>10240</td><td>1500</td><td>0.679526087745</td><td>1</td><td>27023</td><td>1</td><td>1500</td><td>7</td></tr>\n",
       "<tr><td>163.414541574</td><td>-0.622295995581</td><td>35185748411940916</td><td>2305843009213693952</td><td>0</td><td>10240</td><td>1500</td><td>0.374817713069</td><td>1</td><td>27023</td><td>1</td><td>1500</td><td>7</td></tr>\n",
       "<tr><td>163.277324683</td><td>-0.621896373342</td><td>35185748411940925</td><td>2305843009213693952</td><td>0</td><td>1280</td><td>1500</td><td>0.491139885087</td><td>1</td><td>27023</td><td>1</td><td>1500</td><td>7</td></tr>\n",
       "<tr><td>163.473522103</td><td>-0.622380001889</td><td>35185748411940927</td><td>131074</td><td>0</td><td>0</td><td>3000</td><td>0.853900531068</td><td>1</td><td>27023</td><td>1</td><td>3000</td><td>3</td></tr>\n",
       "<tr><td>163.495674904</td><td>-0.621547358804</td><td>35185748411940947</td><td>131074</td><td>0</td><td>0</td><td>3000</td><td>0.978607452713</td><td>1</td><td>27023</td><td>1</td><td>3000</td><td>3</td></tr>\n",
       "<tr><td>163.324883091</td><td>-0.620610593885</td><td>35185748411940954</td><td>131074</td><td>0</td><td>0</td><td>3000</td><td>0.87926552397</td><td>1</td><td>27023</td><td>1</td><td>3000</td><td>3</td></tr>\n",
       "<tr><td>163.407663822</td><td>-0.620698404077</td><td>35185748411940960</td><td>131074</td><td>0</td><td>0</td><td>3000</td><td>0.653314844572</td><td>1</td><td>27023</td><td>1</td><td>3000</td><td>3</td></tr>\n",
       "<tr><td>163.406836857</td><td>-0.621139978782</td><td>35185748411940961</td><td>131074</td><td>0</td><td>0</td><td>3000</td><td>0.694506552792</td><td>1</td><td>27023</td><td>1</td><td>3000</td><td>3</td></tr>\n",
       "<tr><td>163.396006735</td><td>-0.619698525693</td><td>35185748411940971</td><td>2305843009213693952</td><td>0</td><td>1280</td><td>1500</td><td>0.404622822412</td><td>1</td><td>27023</td><td>1</td><td>1500</td><td>7</td></tr>\n",
       "</table>"
      ],
      "text/plain": [
       "<Table length=10>\n",
       "      RA            DEC            TARGETID     ... PRIORITY OBSCONDITIONS\n",
       "   float64        float64           int64       ...  int64       int32    \n",
       "------------- --------------- ----------------- ... -------- -------------\n",
       "163.252082455 -0.624211104073 35185748411940893 ...        0             7\n",
       "163.413737215 -0.622343341717 35185748411940915 ...     1500             7\n",
       "163.414541574 -0.622295995581 35185748411940916 ...     1500             7\n",
       "163.277324683 -0.621896373342 35185748411940925 ...     1500             7\n",
       "163.473522103 -0.622380001889 35185748411940927 ...     3000             3\n",
       "163.495674904 -0.621547358804 35185748411940947 ...     3000             3\n",
       "163.324883091 -0.620610593885 35185748411940954 ...     3000             3\n",
       "163.407663822 -0.620698404077 35185748411940960 ...     3000             3\n",
       "163.406836857 -0.621139978782 35185748411940961 ...     3000             3\n",
       "163.396006735 -0.619698525693 35185748411940971 ...     1500             7"
      ]
     },
     "execution_count": 23,
     "metadata": {},
     "output_type": "execute_result"
    }
   ],
   "source": [
    "initial_mtl[:10]"
   ]
  },
  {
   "cell_type": "code",
   "execution_count": 24,
   "metadata": {},
   "outputs": [
    {
     "name": "stdout",
     "output_type": "stream",
     "text": [
      "45692 201221\n"
     ]
    }
   ],
   "source": [
    "ii_truth_qso = truth['TRUESPECTYPE']=='QSO'\n",
    "high_z_qso = truth['TRUEZ'] > 2.15\n",
    "print(np.count_nonzero(ii_truth_qso & high_z_qso), np.count_nonzero(ii_truth_qso & ~high_z_qso))"
   ]
  },
  {
   "cell_type": "code",
   "execution_count": 25,
   "metadata": {},
   "outputs": [],
   "source": [
    "area_approx = (initial_mtl['RA'].max() - initial_mtl['RA'].min()) * (initial_mtl['DEC'].max() - initial_mtl['DEC'].min())"
   ]
  },
  {
   "cell_type": "code",
   "execution_count": 26,
   "metadata": {},
   "outputs": [
    {
     "name": "stdout",
     "output_type": "stream",
     "text": [
      "44999.958658\n"
     ]
    }
   ],
   "source": [
    "print(area_approx * 50)"
   ]
  },
  {
   "cell_type": "code",
   "execution_count": null,
   "metadata": {},
   "outputs": [],
   "source": []
  }
 ],
 "metadata": {
  "kernelspec": {
   "display_name": "DESI 19.2",
   "language": "python",
   "name": "desi-19.2"
  },
  "language_info": {
   "codemirror_mode": {
    "name": "ipython",
    "version": 3
   },
   "file_extension": ".py",
   "mimetype": "text/x-python",
   "name": "python",
   "nbconvert_exporter": "python",
   "pygments_lexer": "ipython3",
   "version": "3.6.6"
  }
 },
 "nbformat": 4,
 "nbformat_minor": 4
}
