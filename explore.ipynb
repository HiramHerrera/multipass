{
 "cells": [
  {
   "cell_type": "code",
   "execution_count": 1,
   "metadata": {},
   "outputs": [],
   "source": [
    "from astropy.table import Table\n",
    "import numpy as np\n",
    "import matplotlib.pyplot as plt\n",
    "import glob\n",
    "import os\n",
    "import fitsio\n",
    "import desimodel.io\n",
    "import desitarget.mtl\n",
    "from desitarget.targetmask import desi_mask, obsconditions\n",
    "from collections import Counter\n",
    "import subprocess\n",
    "%matplotlib inline"
   ]
  },
  {
   "cell_type": "code",
   "execution_count": 2,
   "metadata": {},
   "outputs": [],
   "source": [
    "mtl_file = \"targets/dr8_mtl_dark_gray_northern_cap.fits\"\n",
    "mtl_data = Table.read(mtl_file)"
   ]
  },
  {
   "cell_type": "code",
   "execution_count": 3,
   "metadata": {},
   "outputs": [
    {
     "name": "stdout",
     "output_type": "stream",
     "text": [
      "61201562\n"
     ]
    }
   ],
   "source": [
    "print(len(mtl_data))\n",
    "r = np.random.random(len(mtl_data))\n",
    "rr = r<0.0001"
   ]
  },
  {
   "cell_type": "code",
   "execution_count": 5,
   "metadata": {},
   "outputs": [
    {
     "data": {
      "text/plain": [
       "<matplotlib.collections.PathCollection at 0x2aaadd2eee48>"
      ]
     },
     "execution_count": 5,
     "metadata": {},
     "output_type": "execute_result"
    },
    {
     "data": {
      "image/png": "[encoded data removed]",
      "text/plain": [
       "<matplotlib.figure.Figure at 0x2aaab57f1f28>"
      ]
     },
     "metadata": {},
     "output_type": "display_data"
    }
   ],
   "source": [
    "plt.scatter(mtl_data['RA'][rr], mtl_data['DEC'][rr], s=0.1)"
   ]
  },
  {
   "cell_type": "markdown",
   "metadata": {},
   "source": [
    "# Create a smaller mtl file"
   ]
  },
  {
   "cell_type": "code",
   "execution_count": 6,
   "metadata": {},
   "outputs": [],
   "source": [
    "subset_ii = (mtl_data['RA']>145) & (mtl_data['RA']<205)\n",
    "subset_ii &= (mtl_data['DEC']>-5) & (mtl_data['DEC']<25)\n",
    "new_mtl_file = \"targets/subset_dr8_mtl_dark_gray_northern_cap.fits\"\n",
    "mtl_data[subset_ii].write(new_mtl_file, overwrite=True)"
   ]
  },
  {
   "cell_type": "code",
   "execution_count": 7,
   "metadata": {},
   "outputs": [],
   "source": [
    "targets = Table.read(new_mtl_file)"
   ]
  },
  {
   "cell_type": "code",
   "execution_count": 8,
   "metadata": {},
   "outputs": [
    {
     "ename": "NameError",
     "evalue": "name 'skyfile' is not defined",
     "output_type": "error",
     "traceback": [
      "\u001b[0;31m---------------------------------------------------------------------------\u001b[0m",
      "\u001b[0;31mNameError\u001b[0m                                 Traceback (most recent call last)",
      "\u001b[0;32m<ipython-input-8-3ac2263ff7da>\u001b[0m in \u001b[0;36m<module>\u001b[0;34m()\u001b[0m\n\u001b[1;32m      1\u001b[0m \u001b[0msky_file\u001b[0m \u001b[0;34m=\u001b[0m \u001b[0;34m\"targets/subset_dr8_sky.fits\"\u001b[0m\u001b[0;34m\u001b[0m\u001b[0m\n\u001b[0;32m----> 2\u001b[0;31m \u001b[0;32mif\u001b[0m \u001b[0;32mnot\u001b[0m \u001b[0mos\u001b[0m\u001b[0;34m.\u001b[0m\u001b[0mpath\u001b[0m\u001b[0;34m.\u001b[0m\u001b[0mexists\u001b[0m\u001b[0;34m(\u001b[0m\u001b[0mskyfile\u001b[0m\u001b[0;34m)\u001b[0m\u001b[0;34m:\u001b[0m\u001b[0;34m\u001b[0m\u001b[0m\n\u001b[0m\u001b[1;32m      3\u001b[0m     \u001b[0msky_data\u001b[0m \u001b[0;34m=\u001b[0m \u001b[0mTable\u001b[0m\u001b[0;34m.\u001b[0m\u001b[0mread\u001b[0m\u001b[0;34m(\u001b[0m\u001b[0;34m\"/project/projectdirs/desi/target/catalogs/dr8/0.31.0/skies/skies-dr8-0.31.0.fits\"\u001b[0m\u001b[0;34m)\u001b[0m\u001b[0;34m\u001b[0m\u001b[0m\n\u001b[1;32m      4\u001b[0m     \u001b[0msubset_ii\u001b[0m \u001b[0;34m=\u001b[0m \u001b[0;34m(\u001b[0m\u001b[0msky_data\u001b[0m\u001b[0;34m[\u001b[0m\u001b[0;34m'RA'\u001b[0m\u001b[0;34m]\u001b[0m\u001b[0;34m>\u001b[0m\u001b[0;36m145\u001b[0m\u001b[0;34m)\u001b[0m \u001b[0;34m&\u001b[0m \u001b[0;34m(\u001b[0m\u001b[0msky_data\u001b[0m\u001b[0;34m[\u001b[0m\u001b[0;34m'RA'\u001b[0m\u001b[0;34m]\u001b[0m\u001b[0;34m<\u001b[0m\u001b[0;36m205\u001b[0m\u001b[0;34m)\u001b[0m\u001b[0;34m\u001b[0m\u001b[0m\n\u001b[1;32m      5\u001b[0m     \u001b[0msubset_ii\u001b[0m \u001b[0;34m&=\u001b[0m \u001b[0;34m(\u001b[0m\u001b[0msky_data\u001b[0m\u001b[0;34m[\u001b[0m\u001b[0;34m'DEC'\u001b[0m\u001b[0;34m]\u001b[0m\u001b[0;34m>\u001b[0m\u001b[0;34m-\u001b[0m\u001b[0;36m5\u001b[0m\u001b[0;34m)\u001b[0m \u001b[0;34m&\u001b[0m \u001b[0;34m(\u001b[0m\u001b[0msky_data\u001b[0m\u001b[0;34m[\u001b[0m\u001b[0;34m'DEC'\u001b[0m\u001b[0;34m]\u001b[0m\u001b[0;34m<\u001b[0m\u001b[0;36m25\u001b[0m\u001b[0;34m)\u001b[0m\u001b[0;34m\u001b[0m\u001b[0m\n",
      "\u001b[0;31mNameError\u001b[0m: name 'skyfile' is not defined"
     ]
    }
   ],
   "source": [
    "sky_file = \"targets/subset_dr8_sky.fits\"\n",
    "if not os.path.exists(skyfile):\n",
    "    sky_data = Table.read(\"/project/projectdirs/desi/target/catalogs/dr8/0.31.0/skies/skies-dr8-0.31.0.fits\")\n",
    "    subset_ii = (sky_data['RA']>145) & (sky_data['RA']<205)\n",
    "    subset_ii &= (sky_data['DEC']>-5) & (sky_data['DEC']<25)\n",
    "    print('writing sky')\n",
    "    sky_data[subset_ii].write(sky_file, overwrite=True)\n",
    "    print('done writing sky')"
   ]
  },
  {
   "cell_type": "markdown",
   "metadata": {},
   "source": [
    "# Build the corresponding truth catalog"
   ]
  },
  {
   "cell_type": "code",
   "execution_count": null,
   "metadata": {},
   "outputs": [],
   "source": [
    "#truth file\n",
    "truthfile = \"targets/subset_truth_dr8_mtl_dark_gray_northern_cap.fits\"\n",
    "if not os.path.exists(truthfile):\n",
    "    import desitarget.mock.mockmaker as mb\n",
    "    from desitarget.targetmask import desi_mask, bgs_mask, mws_mask\n",
    "\n",
    "    #targetsfilename = \"small_chunk_targets-dr5.0-0.16.2.fits\"\n",
    "    #targets = fitsio.read(targetfile, 'TARGETS', columns=columns)\n",
    "    colnames = list(targets.dtype.names)\n",
    "    print(colnames)\n",
    "    nobj = len(targets)\n",
    "    truth = mb.empty_truth_table(nobj=nobj)[0]\n",
    "    print(truth.keys())\n",
    "\n",
    "    for k in colnames:\n",
    "        if k in truth.keys():\n",
    "            print(k)\n",
    "            truth[k][:] = targets[k][:]\n",
    "\n",
    "    nothing = '          '\n",
    "    truth['TEMPLATESUBTYPE'] = np.repeat(nothing, nobj)\n",
    "\n",
    "    masks = ['ELG', 'LRG', 'QSO', 'MWS_ANY', 'BGS_ANY', 'STD_FAINT', 'STD_BRIGHT']\n",
    "    dict_truespectype = {'BGS_ANY':'GALAXY', 'ELG':'GALAXY', 'LRG':'GALAXY', 'QSO':'QSO', \n",
    "                    'MWS_ANY':'STAR', 'STD_FAINT':'STAR', 'STD_BRIGHT':'STAR'}\n",
    "    dict_truetemplatetype = {'BGS_ANY':'BGS', 'ELG':'ELG', 'LRG':'LRG', 'QSO':'QSO', \n",
    "                        'MWS_ANY':'STAR', 'STD_FAINT':'STAR', 'STD_BRIGHT':'STAR'}\n",
    "\n",
    "    for m in masks:\n",
    "        istype = (targets['DESI_TARGET'] & desi_mask.mask(m))!=0\n",
    "        print(m, np.count_nonzero(istype))\n",
    "        truth['TRUESPECTYPE'][istype] = np.repeat(dict_truespectype[m], np.count_nonzero(istype))\n",
    "        truth['TEMPLATETYPE'][istype] = np.repeat(dict_truetemplatetype[m], np.count_nonzero(istype))\n",
    "        truth['MOCKID'][istype] = targets['TARGETID'][istype]\n",
    "\n",
    "    # Check that all targets have been assigned to a class\n",
    "    iii = truth['MOCKID']==0\n",
    "    assert np.count_nonzero(iii)==0\n",
    "    \n",
    "    print('writing truth')\n",
    "    truth.write(truthfile, overwrite=True)\n",
    "    print('done truth')\n"
   ]
  },
  {
   "cell_type": "code",
   "execution_count": null,
   "metadata": {},
   "outputs": [],
   "source": [
    "tiles = Table(desimodel.io.load_tiles())\n",
    "\n",
    "ii_tiles = tiles['PROGRAM'] != 'BRIGHT'\n",
    "ii_tiles &= tiles['RA'] > 150 \n",
    "ii_tiles &= tiles['RA'] < 200\n",
    "ii_tiles &= tiles['DEC'] > 0\n",
    "ii_tiles &= tiles['DEC'] < 20\n",
    "\n",
    "tilefile = 'footprint/subset_dark123_gray.fits'\n",
    "tiles[ii_tiles].write(tilefile, overwrite='True')"
   ]
  },
  {
   "cell_type": "code",
   "execution_count": null,
   "metadata": {},
   "outputs": [],
   "source": [
    "#p = subprocess.call([\"fba_run\", \"--targets\", new_mtl_file,'--sky', sky_file,'--footprint', tilefile,'--dir',  ' fiberassign/', '--overwrite'])"
   ]
  },
  {
   "cell_type": "code",
   "execution_count": null,
   "metadata": {},
   "outputs": [],
   "source": [
    "# fba_run --targets targets/subset_dr8_mtl_dark_gray_northern_cap.fits --sky targets/subset_dr8_sky.fits --footprint footprint/subset_dark123_gray.fits --dir fiberassign/"
   ]
  },
  {
   "cell_type": "code",
   "execution_count": 74,
   "metadata": {},
   "outputs": [
    {
     "data": {
      "text/plain": [
       "'fba_run --targets targets/subset_dr8_mtl_dark_gray_northern_cap.fits --sky targets/subset_dr8_sky.fits --footprint footprint/subset_dark123_gray.fits --dir  fiberassign --overwrite '"
      ]
     },
     "execution_count": 74,
     "metadata": {},
     "output_type": "execute_result"
    }
   ],
   "source": [
    "l"
   ]
  },
  {
   "cell_type": "code",
   "execution_count": null,
   "metadata": {},
   "outputs": [],
   "source": []
  }
 ],
 "metadata": {
  "kernelspec": {
   "display_name": "DESI master",
   "language": "python",
   "name": "desi-master"
  },
  "language_info": {
   "codemirror_mode": {
    "name": "ipython",
    "version": 3
   },
   "file_extension": ".py",
   "mimetype": "text/x-python",
   "name": "python",
   "nbconvert_exporter": "python",
   "pygments_lexer": "ipython3",
   "version": "3.6.6"
  }
 },
 "nbformat": 4,
 "nbformat_minor": 4
}
