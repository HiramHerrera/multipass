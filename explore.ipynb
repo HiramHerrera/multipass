{
 "cells": [
  {
   "cell_type": "code",
   "execution_count": 23,
   "metadata": {},
   "outputs": [],
   "source": [
    "from astropy.table import Table\n",
    "import numpy as np\n",
    "import matplotlib.pyplot as plt\n",
    "import glob\n",
    "import os\n",
    "import fitsio\n",
    "import desimodel.io\n",
    "import desitarget.mtl\n",
    "import desisim.quickcat\n",
    "from astropy.io import fits\n",
    "from astropy.table import Table, Column, vstack\n",
    "import json\n",
    "import shutil\n",
    "import healpy\n",
    "import mtl as mymtl\n",
    "import targets\n",
    "\n",
    "\n",
    "from desitarget.targetmask import desi_mask, obsconditions\n",
    "from collections import Counter\n",
    "import subprocess\n",
    "\n",
    "%matplotlib inline"
   ]
  },
  {
   "cell_type": "markdown",
   "metadata": {},
   "source": [
    "# Global statistics"
   ]
  },
  {
   "cell_type": "code",
   "execution_count": 24,
   "metadata": {},
   "outputs": [],
   "source": [
    "def consolidate_favail(fba_files):\n",
    "    # getting all the targetids of the assigned fibers\n",
    "    print('reading individual fiberassign files')\n",
    "    favail = list()\n",
    "    for i_tile, tile_file in enumerate(fba_files):\n",
    "        if i_tile%50 ==0:\n",
    "            print(i_tile)\n",
    "        id_favail, header = fits.getdata(tile_file, 'FAVAIL', header=True)\n",
    "        favail.extend(id_favail['TARGETID'])\n",
    "    return list(set(favail))\n",
    "\n",
    "def global_efficiency(targets, id_avail, zcat, target_class='QSO', zcat_spectype='QSO', z_max=None, z_min=None):\n",
    "    ii_avail = np.in1d(targets['TARGETID'], id_avail)\n",
    "    targets_avail = targets[ii_avail]\n",
    "\n",
    "    if z_max is None and z_min is None:\n",
    "        sub_zcat = zcat.copy()\n",
    "    elif (z_min is not None) or (z_max is not None):\n",
    "        if z_max is not None:\n",
    "            sub_zcat = zcat[zcat['Z']<z_max]\n",
    "        if z_min is not None:\n",
    "            sub_zcat = zcat[zcat['Z']>z_min]\n",
    "    else:\n",
    "        print(\"Error\")\n",
    "        sub_zcat = None\n",
    "\n",
    "    # input target consistent with target_class\n",
    "    is_class = (targets_avail['DESI_TARGET'] & desi_mask.mask(target_class))!=0\n",
    "    targets_avail_class = targets_avail[is_class]\n",
    "    n_avail = len(targets_avail_class)\n",
    "\n",
    "    # output in the redshift catalog consistent with truth_spectype\n",
    "    sub_zcat_class = sub_zcat[sub_zcat['SPECTYPE']==zcat_spectype]\n",
    "    \n",
    "    # keep the elements in the zcat that correspond to the correct input target class\n",
    "    id_intersection = np.in1d(sub_zcat_class['TARGETID'], targets_avail_class['TARGETID'])\n",
    "    sub_zcat_class = sub_zcat_class[id_intersection]\n",
    "    n_assigned = len(sub_zcat_class)\n",
    "\n",
    "    nobs = dict()\n",
    "    for i in range(10):\n",
    "        nobs[i] = np.count_nonzero(sub_zcat_class['NUMOBS']==i)\n",
    "    nobs[0] = (n_avail - n_assigned)\n",
    "\n",
    "    print(target_class, zcat_spectype, n_assigned/n_avail, n_avail, n_assigned, nobs)\n",
    "    \n",
    "def tile_efficiency(qa_json_file):\n",
    "    f = open(qa_json_file)\n",
    "    qa_dict = json.load(f)\n",
    "    f.close()\n",
    "    assign_total = []\n",
    "    assign_science= []\n",
    "    assign_sky = []\n",
    "    assign_std = []\n",
    "    for k in qa_dict:\n",
    "        assign_total.append(qa_dict[k]['assign_total'])\n",
    "        assign_science.append(qa_dict[k]['assign_science'])\n",
    "        assign_sky.append(qa_dict[k]['assign_sky'])\n",
    "        assign_std.append(qa_dict[k]['assign_std'])\n",
    "    assign_total = np.array(assign_total)\n",
    "    assign_science = np.array(assign_science)\n",
    "    assign_sky = np.array(assign_sky)\n",
    "    assign_std = np.array(assign_std)\n",
    "    n_not_enough_sky = np.count_nonzero(assign_sky<400)\n",
    "    n_not_enough_std = np.count_nonzero(assign_std<100)\n",
    "    f_unassigned = (5000 - assign_total)/5000\n",
    "    print(n_not_enough_sky, n_not_enough_std, np.median(f_unassigned))"
   ]
  },
  {
   "cell_type": "code",
   "execution_count": 25,
   "metadata": {},
   "outputs": [
    {
     "name": "stdout",
     "output_type": "stream",
     "text": [
      "mkdir: cannot create directory ‘strategy_A/fiberassign_full’: File exists\n",
      "INFO: Loaded focalplane for time stamp 2019-09-26 16:00:25.632276\n",
      "INFO: Focalplane has 0 fibers that are stuck / broken\n",
      "INFO: Found 0 fiberassign tile files\n",
      "INFO: Selecting 0 fiberassign tile files\n"
     ]
    }
   ],
   "source": [
    "! mkdir strategy_A/fiberassign_full\n",
    "! cp strategy_A/fiberassign_dark0/tile*.fits strategy_A/fiberassign_full/\n",
    "! cp strategy_A/fiberassign_dark1/tile*.fits strategy_A/fiberassign_full/\n",
    "! cp strategy_A/fiberassign_dark2_dark3/tile*.fits strategy_A/fiberassign_full/\n",
    "! cp strategy_A/fiberassign_gray/tile*.fits strategy_A/fiberassign_full/\n",
    "! fba_run_qa --dir strategy_A/fiberassign_full/"
   ]
  },
  {
   "cell_type": "code",
   "execution_count": 26,
   "metadata": {},
   "outputs": [
    {
     "name": "stdout",
     "output_type": "stream",
     "text": [
      "reading individual fiberassign files\n",
      "0\n",
      "50\n",
      "100\n",
      "150\n",
      "200\n",
      "250\n",
      "300\n",
      "350\n",
      "400\n",
      "450\n",
      "500\n",
      "550\n",
      "600\n",
      "650\n",
      "700\n",
      "750\n",
      "800\n",
      "850\n",
      "900\n",
      "950\n",
      "1000\n",
      "1050\n",
      "1100\n",
      "1150\n",
      "1200\n",
      "1250\n",
      "1300\n",
      "1350\n",
      "1400\n",
      "1450\n",
      "1500\n",
      "1550\n",
      "1600\n",
      "1650\n",
      "1700\n",
      "1750\n",
      "1800\n",
      "0 0 nan\n"
     ]
    }
   ],
   "source": [
    "fba_files_A = glob.glob('strategy_A/fiberassign_full/tile-*fits')\n",
    "favail_A = consolidate_favail(fba_files_A)\n",
    "zcat_A = Table.read('strategy_A/zcat/dark2_dark3_zcat.fits')\n",
    "tile_efficiency('strategy_A/fiberassign_full/qa.json')\n",
    "targets = Table.read(\"targets/subset_dr8_mtl_dark_gray_NGC.fits\")\n",
    "truth = Table.read(\"targets/subset_truth_dr8_mtl_dark_gray_NGC.fits\")\n",
    "targets.sort(keys='TARGETID')\n",
    "zcat_A.sort(keys='TARGETID')\n",
    "truth.sort(keys='TARGETID')\n"
   ]
  },
  {
   "cell_type": "code",
   "execution_count": 33,
   "metadata": {},
   "outputs": [
    {
     "data": {
      "text/plain": [
       "<matplotlib.collections.PathCollection at 0x2aaaf475b748>"
      ]
     },
     "execution_count": 33,
     "metadata": {},
     "output_type": "execute_result"
    },
    {
     "data": {
      "image/png": "[encoded data removed]",
      "text/plain": [
       "<matplotlib.figure.Figure at 0x2aab6fb89470>"
      ]
     },
     "metadata": {
      "needs_background": "light"
     },
     "output_type": "display_data"
    }
   ],
   "source": [
    "n_targets = len(targets)\n",
    "r = np.random.random(n_targets)\n",
    "rr = r<0.001\n",
    "plt.scatter(targets['RA'][rr], targets['DEC'][rr], s=0.1)"
   ]
  },
  {
   "cell_type": "code",
   "execution_count": 40,
   "metadata": {},
   "outputs": [],
   "source": [
    "ii = (targets['RA']>140.0) & (targets['RA']<180.0) & (targets['DEC']>10.0) & (targets['DEC']<20)\n",
    "small_targets = targets[ii]"
   ]
  },
  {
   "cell_type": "code",
   "execution_count": 41,
   "metadata": {},
   "outputs": [
    {
     "name": "stdout",
     "output_type": "stream",
     "text": [
      "QSO QSO 0.9863167380869181 108746 107258 {0: 1488, 1: 78197, 2: 11188, 3: 4064, 4: 13806, 5: 2, 6: 1, 7: 0, 8: 0, 9: 0}\n",
      "LRG GALAXY 0.9529158496035468 187664 178828 {0: 8836, 1: 134306, 2: 44522, 3: 0, 4: 0, 5: 0, 6: 0, 7: 0, 8: 0, 9: 0}\n",
      "ELG GALAXY 0.7108614254463494 1009803 717830 {0: 291973, 1: 717830, 2: 0, 3: 0, 4: 0, 5: 0, 6: 0, 7: 0, 8: 0, 9: 0}\n",
      "QSO QSO 0.17265922424732863 108746 18776 {0: 89970, 1: 336, 2: 973, 3: 3681, 4: 13784, 5: 1, 6: 1, 7: 0, 8: 0, 9: 0}\n",
      "QSO QSO 0.8136575138395895 108746 88482 {0: 20264, 1: 77861, 2: 10215, 3: 383, 4: 22, 5: 1, 6: 0, 7: 0, 8: 0, 9: 0}\n"
     ]
    }
   ],
   "source": [
    "global_efficiency(small_targets, favail_A, zcat_A, target_class='QSO', zcat_spectype='QSO')\n",
    "global_efficiency(small_targets, favail_A, zcat_A, target_class='LRG', zcat_spectype='GALAXY')\n",
    "global_efficiency(small_targets, favail_A, zcat_A, target_class='ELG', zcat_spectype='GALAXY')\n",
    "global_efficiency(small_targets, favail_A, zcat_A, target_class='QSO', zcat_spectype='QSO', z_min=2.15)\n",
    "global_efficiency(small_targets, favail_A, zcat_A, target_class='QSO', zcat_spectype='QSO', z_max=2.15)"
   ]
  },
  {
   "cell_type": "code",
   "execution_count": 47,
   "metadata": {},
   "outputs": [
    {
     "name": "stdout",
     "output_type": "stream",
     "text": [
      "reading individual fiberassign files\n",
      "0\n",
      "50\n",
      "100\n",
      "150\n",
      "200\n",
      "250\n",
      "300\n",
      "350\n"
     ]
    }
   ],
   "source": [
    "fba_files_A_0 = glob.glob('strategy_A/fiberassign_gray/tile-*fits')\n",
    "favail_A_0 = consolidate_favail(fba_files_A_0)\n",
    "zcat_A_0 = Table.read('strategy_A/zcat/gray_zcat.fits')\n",
    "targets = Table.read(\"targets/subset_dr8_mtl_dark_gray_NGC.fits\")\n",
    "truth = Table.read(\"targets/subset_truth_dr8_mtl_dark_gray_NGC.fits\")\n",
    "zcat_A_0.sort(keys='TARGETID')\n"
   ]
  },
  {
   "cell_type": "code",
   "execution_count": 48,
   "metadata": {},
   "outputs": [
    {
     "name": "stdout",
     "output_type": "stream",
     "text": [
      "QSO QSO 0.9445536609829488 24925 23543 {0: 1382, 1: 20849, 2: 2694, 3: 0, 4: 0, 5: 0, 6: 0, 7: 0, 8: 0, 9: 0}\n",
      "LRG GALAXY 0.8307479498073312 20242 16816 {0: 3426, 1: 16816, 2: 0, 3: 0, 4: 0, 5: 0, 6: 0, 7: 0, 8: 0, 9: 0}\n",
      "ELG GALAXY 0.21406952008260152 931702 199449 {0: 732253, 1: 199449, 2: 0, 3: 0, 4: 0, 5: 0, 6: 0, 7: 0, 8: 0, 9: 0}\n",
      "QSO QSO 0.16517552657973922 24925 4117 {0: 20808, 1: 3652, 2: 465, 3: 0, 4: 0, 5: 0, 6: 0, 7: 0, 8: 0, 9: 0}\n",
      "QSO QSO 0.7793781344032096 24925 19426 {0: 5499, 1: 17197, 2: 2229, 3: 0, 4: 0, 5: 0, 6: 0, 7: 0, 8: 0, 9: 0}\n"
     ]
    }
   ],
   "source": [
    "global_efficiency(small_targets, favail_A_0, zcat_A_0, target_class='QSO', zcat_spectype='QSO')\n",
    "global_efficiency(small_targets, favail_A_0, zcat_A_0, target_class='LRG', zcat_spectype='GALAXY')\n",
    "global_efficiency(small_targets, favail_A_0, zcat_A_0, target_class='ELG', zcat_spectype='GALAXY')\n",
    "global_efficiency(small_targets, favail_A_0, zcat_A_0, target_class='QSO', zcat_spectype='QSO', z_min=2.15)\n",
    "global_efficiency(small_targets, favail_A_0, zcat_A_0, target_class='QSO', zcat_spectype='QSO', z_max=2.15)"
   ]
  },
  {
   "cell_type": "code",
   "execution_count": 28,
   "metadata": {
    "collapsed": true,
    "jupyter": {
     "outputs_hidden": true
    }
   },
   "outputs": [
    {
     "name": "stdout",
     "output_type": "stream",
     "text": [
      "mkdir: cannot create directory ‘strategy_B/fiberassign_full’: File exists\n",
      "INFO: Loaded focalplane for time stamp 2019-09-26 16:09:23.769332\n",
      "INFO: Focalplane has 0 fibers that are stuck / broken\n",
      "INFO: Found 0 fiberassign tile files\n",
      "INFO: Selecting 0 fiberassign tile files\n"
     ]
    }
   ],
   "source": [
    "! mkdir strategy_B/fiberassign_full\n",
    "! cp strategy_B/fiberassign_dark0/tile*.fits strategy_B/fiberassign_full/\n",
    "! cp strategy_B/fiberassign_dark1/tile*.fits strategy_B/fiberassign_full/\n",
    "! cp strategy_B/fiberassign_dark2_dark3/tile*.fits strategy_B/fiberassign_full/\n",
    "! cp strategy_B/fiberassign_gray/tile*.fits strategy_B/fiberassign_full/\n",
    "! fba_run_qa --dir strategy_B/fiberassign_full/"
   ]
  },
  {
   "cell_type": "code",
   "execution_count": 29,
   "metadata": {
    "collapsed": true,
    "jupyter": {
     "outputs_hidden": true
    }
   },
   "outputs": [
    {
     "name": "stdout",
     "output_type": "stream",
     "text": [
      "reading individual fiberassign files\n",
      "0\n",
      "50\n",
      "100\n",
      "150\n",
      "200\n",
      "250\n",
      "300\n",
      "350\n",
      "400\n",
      "450\n",
      "500\n",
      "550\n",
      "600\n",
      "650\n",
      "700\n",
      "750\n",
      "800\n",
      "850\n",
      "900\n",
      "950\n",
      "1000\n",
      "1050\n",
      "1100\n",
      "1150\n",
      "1200\n",
      "1250\n",
      "1300\n",
      "1350\n",
      "1400\n",
      "1450\n",
      "1500\n",
      "1550\n",
      "1600\n",
      "1650\n",
      "1700\n",
      "1750\n",
      "1800\n",
      "0 0 nan\n"
     ]
    }
   ],
   "source": [
    "fba_files_B = glob.glob('strategy_B/fiberassign_full/tile-*fits')\n",
    "favail_B = consolidate_favail(fba_files_B)\n",
    "zcat_B = Table.read('strategy_B/zcat/dark2_dark3_zcat.fits')\n",
    "tile_efficiency('strategy_B/fiberassign_full/qa.json')\n",
    "targets.sort(keys='TARGETID')\n",
    "zcat_B.sort(keys='TARGETID')\n",
    "truth.sort(keys='TARGETID')"
   ]
  },
  {
   "cell_type": "code",
   "execution_count": 42,
   "metadata": {},
   "outputs": [
    {
     "name": "stdout",
     "output_type": "stream",
     "text": [
      "QSO QSO 0.9863075423463852 108746 107257 {0: 1489, 1: 78338, 2: 11035, 3: 4067, 4: 13813, 5: 3, 6: 1, 7: 0, 8: 0, 9: 0}\n",
      "LRG GALAXY 0.9528039474806036 187664 178807 {0: 8857, 1: 134294, 2: 44513, 3: 0, 4: 0, 5: 0, 6: 0, 7: 0, 8: 0, 9: 0}\n",
      "ELG GALAXY 0.7195383654039451 1009803 726592 {0: 283211, 1: 726592, 2: 0, 3: 0, 4: 0, 5: 0, 6: 0, 7: 0, 8: 0, 9: 0}\n",
      "QSO QSO 0.17265922424732863 108746 18776 {0: 89970, 1: 335, 2: 972, 3: 3685, 4: 13782, 5: 1, 6: 1, 7: 0, 8: 0, 9: 0}\n",
      "QSO QSO 0.8136483180990565 108746 88481 {0: 20265, 1: 78003, 2: 10063, 3: 382, 4: 31, 5: 2, 6: 0, 7: 0, 8: 0, 9: 0}\n"
     ]
    }
   ],
   "source": [
    "global_efficiency(small_targets, favail_B, zcat_B, target_class='QSO', zcat_spectype='QSO')\n",
    "global_efficiency(small_targets, favail_B, zcat_B, target_class='LRG', zcat_spectype='GALAXY')\n",
    "global_efficiency(small_targets, favail_B, zcat_B, target_class='ELG', zcat_spectype='GALAXY')\n",
    "global_efficiency(small_targets, favail_B, zcat_B, target_class='QSO', zcat_spectype='QSO', z_min=2.15)\n",
    "global_efficiency(small_targets, favail_B, zcat_B, target_class='QSO', zcat_spectype='QSO', z_max=2.15)"
   ]
  },
  {
   "cell_type": "code",
   "execution_count": null,
   "metadata": {},
   "outputs": [],
   "source": []
  },
  {
   "cell_type": "code",
   "execution_count": null,
   "metadata": {},
   "outputs": [],
   "source": []
  },
  {
   "cell_type": "code",
   "execution_count": null,
   "metadata": {},
   "outputs": [],
   "source": []
  },
  {
   "cell_type": "code",
   "execution_count": null,
   "metadata": {},
   "outputs": [],
   "source": [
    "truth[:10]"
   ]
  },
  {
   "cell_type": "code",
   "execution_count": null,
   "metadata": {},
   "outputs": [],
   "source": [
    "avail_a_array = np.array([favail_A])\n",
    "avail = Table(np.transpose(avail_a_array), names=(['TARGETID']))\n",
    "avail.write(\"available.fits\", overwrite=True)\n",
    "avail = Table.read(\"available.fits\")"
   ]
  },
  {
   "cell_type": "code",
   "execution_count": null,
   "metadata": {},
   "outputs": [],
   "source": [
    "compiled = targets.copy()\n",
    "ii = np.in1d(targets['TARGETID'], avail['TARGETID'])\n",
    "compiled = targets[ii]"
   ]
  },
  {
   "cell_type": "code",
   "execution_count": null,
   "metadata": {},
   "outputs": [],
   "source": [
    "compiled['NUMOBS'] = np.zeros(len(compiled), dtype=int)\n",
    "compiled['Z'] = np.zeros(len(compiled))\n",
    "compiled['TRUEZ'] = np.zeros(len(compiled), dtype=int)\n",
    "compiled['TRUESPECTYPE'] = np.repeat('A', len(compiled))\n",
    "\n",
    "\n",
    "ii_from_z = np.in1d(compiled['TARGETID'], zcat_A['TARGETID'])\n",
    "compiled['Z'][ii_from_z] = zcat_A['Z']\n",
    "compiled['NUMOBS'][ii_from_z] = np.int_(zcat_A['NUMOBS'])\n",
    "\n",
    "ii_from_truth = np.in1d(truth['TARGETID'], compiled['TARGETID'])\n",
    "compiled['TRUESPECTYPE'] = truth['TRUESPECTYPE'][ii_from_truth]\n",
    "compiled['TRUEZ'] = truth['TRUEZ'][ii_from_truth]"
   ]
  },
  {
   "cell_type": "code",
   "execution_count": null,
   "metadata": {},
   "outputs": [],
   "source": [
    "compiled[['RA', 'DEC', 'TARGETID', 'DESI_TARGET', 'NUMOBS', 'TRUESPECTYPE', 'TRUEZ']].write(\"myzcat_strategy_A.fits\", overwrite=True)"
   ]
  },
  {
   "cell_type": "code",
   "execution_count": null,
   "metadata": {},
   "outputs": [],
   "source": [
    "compiled=Table.read(\"myzcat_strategy_A.fits\")"
   ]
  },
  {
   "cell_type": "code",
   "execution_count": null,
   "metadata": {},
   "outputs": [],
   "source": [
    "rr = np.random.random(len(compiled))\n",
    "ii = rr<0.01\n",
    "plt.scatter(compiled['RA'][ii], compiled['DEC'][ii], s=0.1)"
   ]
  },
  {
   "cell_type": "code",
   "execution_count": null,
   "metadata": {},
   "outputs": [],
   "source": [
    "compiled"
   ]
  },
  {
   "cell_type": "code",
   "execution_count": null,
   "metadata": {},
   "outputs": [],
   "source": []
  },
  {
   "cell_type": "code",
   "execution_count": null,
   "metadata": {},
   "outputs": [],
   "source": []
  }
 ],
 "metadata": {
  "kernelspec": {
   "display_name": "DESI master",
   "language": "python",
   "name": "desi-master"
  },
  "language_info": {
   "codemirror_mode": {
    "name": "ipython",
    "version": 3
   },
   "file_extension": ".py",
   "mimetype": "text/x-python",
   "name": "python",
   "nbconvert_exporter": "python",
   "pygments_lexer": "ipython3",
   "version": "3.6.6"
  }
 },
 "nbformat": 4,
 "nbformat_minor": 4
}
