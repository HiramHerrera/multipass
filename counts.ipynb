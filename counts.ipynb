{
 "cells": [
  {
   "cell_type": "code",
   "execution_count": 1,
   "metadata": {},
   "outputs": [],
   "source": [
    "from astropy.table import Table\n",
    "import numpy as np\n",
    "import matplotlib.pyplot as plt\n",
    "import glob\n",
    "import os\n",
    "import fitsio\n",
    "import desimodel.io\n",
    "import desitarget.mtl\n",
    "import desisim.quickcat\n",
    "from astropy.io import fits\n",
    "from astropy.table import Table, Column, vstack, hstack\n",
    "import json\n",
    "import shutil\n",
    "import myquickcat\n",
    "from importlib import reload\n",
    "\n",
    "from desitarget.targetmask import desi_mask, obsconditions\n",
    "from collections import Counter\n",
    "import subprocess\n",
    "\n",
    "%matplotlib inline"
   ]
  },
  {
   "cell_type": "code",
   "execution_count": 16,
   "metadata": {},
   "outputs": [
    {
     "name": "stdout",
     "output_type": "stream",
     "text": [
      "1024622 1024622 1024622\n"
     ]
    }
   ],
   "source": [
    "full_targets = Table.read(\"targets/subset_dr8_mtl_dark_gray_NGC.fits\")\n",
    "zcat = Table.read(\"strategy_A/zcat/dark2_dark3_zcat.fits\")\n",
    "full_mtl = Table.read(\"strategy_A/targets/dark2_dark3_subset_dr8_mtl_dark_gray_northern_cap.fits\")\n",
    "truth = Table.read(\"targets/subset_truth_dr8_mtl_dark_gray_NGC.fits\")\n",
    "\n",
    "ii = np.in1d(full_mtl['TARGETID'], zcat['TARGETID'])\n",
    "in_mtl = full_mtl[ii]\n",
    "\n",
    "ii = np.in1d(full_targets['TARGETID'], zcat['TARGETID'])\n",
    "in_targets = full_targets[ii]\n",
    "\n",
    "print(len(zcat), len(in_mtl), len(in_targets))\n",
    "in_mtl.sort(keys='TARGETID')\n",
    "zcat.sort(keys='TARGETID')\n",
    "in_targets.sort(keys='TARGETID')\n",
    "truth.sort(keys='TARGETID')\n"
   ]
  },
  {
   "cell_type": "code",
   "execution_count": 3,
   "metadata": {},
   "outputs": [],
   "source": [
    "assert np.all(in_mtl['TARGETID']==zcat['TARGETID'])\n",
    "assert np.all(in_mtl['TARGETID']==in_targets['TARGETID'])"
   ]
  },
  {
   "cell_type": "code",
   "execution_count": 38,
   "metadata": {},
   "outputs": [
    {
     "name": "stdout",
     "output_type": "stream",
     "text": [
      "8441 0.8238160023891737\n",
      "9 0.0008783727072032418\n"
     ]
    }
   ],
   "source": [
    "zcat_large = zcat[(zcat['NUMOBS']>1) & (zcat['SPECTYPE']=='QSO') & (zcat['Z']<2.15)]\n",
    "in_mtl_large = in_mtl[(zcat['NUMOBS']>1) & (zcat['SPECTYPE']=='QSO') & (zcat['Z']<2.15)]\n",
    "in_targets_large = in_targets[(zcat['NUMOBS']>1) & (zcat['SPECTYPE']=='QSO') & (zcat['Z']<2.15)]\n",
    "print(len(zcat_large), 100*len(zcat_large)/len(zcat))\n",
    "\n",
    "ii = (zcat['NUMOBS']>3) & (zcat['Z']<2.15) & (zcat['SPECTYPE']=='QSO')\n",
    "zcat_large = zcat[ii]\n",
    "in_mtl_large = in_mtl[ii]\n",
    "in_targets_large = in_targets[ii]\n",
    "print(len(zcat_large), 100*len(zcat_large)/len(zcat))"
   ]
  },
  {
   "cell_type": "code",
   "execution_count": 39,
   "metadata": {},
   "outputs": [],
   "source": [
    "names = {}\n",
    "name_id = {}\n",
    "for i in range(len(in_mtl_large)):\n",
    "    a = desi_mask.names(in_mtl_large['DESI_TARGET'][i])\n",
    "    n = ''\n",
    "    for aa in a:\n",
    "        n = n +' '+ aa\n",
    "    if n not in names.keys():\n",
    "        names[n] = 1\n",
    "    else:\n",
    "        names[n] += 1\n",
    "    name_id[in_mtl_large['TARGETID'][i]] = n\n"
   ]
  },
  {
   "cell_type": "code",
   "execution_count": 40,
   "metadata": {},
   "outputs": [
    {
     "data": {
      "text/plain": [
       "{' QSO QSO_SOUTH STD_FAINT BGS_ANY MWS_ANY': 1,\n",
       " ' QSO QSO_SOUTH': 6,\n",
       " ' QSO QSO_SOUTH BGS_ANY': 1,\n",
       " ' QSO QSO_SOUTH STD_WD BGS_ANY MWS_ANY': 1}"
      ]
     },
     "execution_count": 40,
     "metadata": {},
     "output_type": "execute_result"
    }
   ],
   "source": [
    "names"
   ]
  },
  {
   "cell_type": "code",
   "execution_count": 41,
   "metadata": {},
   "outputs": [
    {
     "data": {
      "text/html": [
       "&lt;Table length=9&gt;\n",
       "<table id=\"table46913650545888\" class=\"table-striped table-bordered table-condensed\">\n",
       "<thead><tr><th>TARGETID</th><th>BRICKNAME</th><th>SPECTYPE</th><th>Z</th><th>ZERR</th><th>ZWARN</th><th>NUMOBS</th></tr></thead>\n",
       "<thead><tr><th>int64</th><th>str8</th><th>str10</th><th>float32</th><th>float32</th><th>int32</th><th>int32</th></tr></thead>\n",
       "<tr><td>35185827130641806</td><td></td><td>QSO</td><td>2.0</td><td>0.0</td><td>0</td><td>4</td></tr>\n",
       "<tr><td>35186042583647168</td><td></td><td>QSO</td><td>2.0</td><td>0.0</td><td>0</td><td>4</td></tr>\n",
       "<tr><td>35186048573113651</td><td></td><td>QSO</td><td>2.0</td><td>0.0</td><td>0</td><td>4</td></tr>\n",
       "<tr><td>35186048761859902</td><td></td><td>QSO</td><td>2.0</td><td>0.0</td><td>0</td><td>4</td></tr>\n",
       "<tr><td>35186060317166607</td><td></td><td>QSO</td><td>2.0</td><td>0.0</td><td>0</td><td>4</td></tr>\n",
       "<tr><td>35186101530397717</td><td></td><td>QSO</td><td>2.0</td><td>0.0</td><td>0</td><td>4</td></tr>\n",
       "<tr><td>35186101748502946</td><td></td><td>QSO</td><td>2.0</td><td>0.0</td><td>0</td><td>4</td></tr>\n",
       "<tr><td>35186107578583476</td><td></td><td>QSO</td><td>2.0</td><td>0.0</td><td>0</td><td>4</td></tr>\n",
       "<tr><td>35186165778745948</td><td></td><td>QSO</td><td>2.0</td><td>0.0</td><td>0</td><td>4</td></tr>\n",
       "</table>"
      ],
      "text/plain": [
       "<Table length=9>\n",
       "     TARGETID     BRICKNAME SPECTYPE    Z      ZERR  ZWARN NUMOBS\n",
       "      int64          str8    str10   float32 float32 int32 int32 \n",
       "----------------- --------- -------- ------- ------- ----- ------\n",
       "35185827130641806                QSO     2.0     0.0     0      4\n",
       "35186042583647168                QSO     2.0     0.0     0      4\n",
       "35186048573113651                QSO     2.0     0.0     0      4\n",
       "35186048761859902                QSO     2.0     0.0     0      4\n",
       "35186060317166607                QSO     2.0     0.0     0      4\n",
       "35186101530397717                QSO     2.0     0.0     0      4\n",
       "35186101748502946                QSO     2.0     0.0     0      4\n",
       "35186107578583476                QSO     2.0     0.0     0      4\n",
       "35186165778745948                QSO     2.0     0.0     0      4"
      ]
     },
     "execution_count": 41,
     "metadata": {},
     "output_type": "execute_result"
    }
   ],
   "source": [
    "zcat_large[:10]"
   ]
  },
  {
   "cell_type": "code",
   "execution_count": 42,
   "metadata": {},
   "outputs": [
    {
     "data": {
      "text/html": [
       "&lt;Table length=9&gt;\n",
       "<table id=\"table46913650548184\" class=\"table-striped table-bordered table-condensed\">\n",
       "<thead><tr><th>RA</th><th>DEC</th><th>TARGETID</th><th>DESI_TARGET</th><th>BGS_TARGET</th><th>MWS_TARGET</th><th>PRIORITY_INIT</th><th>SUBPRIORITY</th><th>NUMOBS_INIT</th><th>HPXPIXEL</th><th>NUMOBS_MORE</th><th>PRIORITY</th><th>OBSCONDITIONS</th></tr></thead>\n",
       "<thead><tr><th>float64</th><th>float64</th><th>int64</th><th>int64</th><th>int64</th><th>int64</th><th>int64</th><th>float64</th><th>int64</th><th>int64</th><th>int64</th><th>int64</th><th>int32</th></tr></thead>\n",
       "<tr><td>175.358338455</td><td>2.82834728661</td><td>35185827130641806</td><td>3458764522410737668</td><td>262148</td><td>1280</td><td>3400</td><td>0.304034474116</td><td>4</td><td>26999</td><td>0</td><td>2</td><td>7</td></tr>\n",
       "<tr><td>161.632699344</td><td>11.6849594655</td><td>35186042583647168</td><td>262148</td><td>0</td><td>0</td><td>3400</td><td>0.066566431465</td><td>4</td><td>27512</td><td>4</td><td>3400</td><td>1</td></tr>\n",
       "<tr><td>165.761079191</td><td>11.9375467863</td><td>35186048573113651</td><td>1152921504607109124</td><td>262148</td><td>0</td><td>3400</td><td>0.986820059528</td><td>4</td><td>27509</td><td>4</td><td>3400</td><td>5</td></tr>\n",
       "<tr><td>177.194196895</td><td>12.062393253</td><td>35186048761859902</td><td>262148</td><td>0</td><td>0</td><td>3400</td><td>0.768395743079</td><td>4</td><td>27872</td><td>4</td><td>3400</td><td>1</td></tr>\n",
       "<tr><td>161.382869727</td><td>12.5366379114</td><td>35186060317166607</td><td>3458764531000672260</td><td>262148</td><td>2</td><td>3400</td><td>0.410806412807</td><td>4</td><td>27515</td><td>0</td><td>2</td><td>7</td></tr>\n",
       "<tr><td>163.74201943</td><td>14.2736572006</td><td>35186101530397717</td><td>262148</td><td>0</td><td>0</td><td>3400</td><td>0.36198326493</td><td>4</td><td>28202</td><td>4</td><td>3400</td><td>1</td></tr>\n",
       "<tr><td>177.016499723</td><td>14.3679191504</td><td>35186101748502946</td><td>262148</td><td>0</td><td>0</td><td>3400</td><td>0.294375182193</td><td>4</td><td>27881</td><td>4</td><td>3400</td><td>1</td></tr>\n",
       "<tr><td>175.332046289</td><td>14.4957383573</td><td>35186107578583476</td><td>262148</td><td>0</td><td>0</td><td>3400</td><td>0.197275485253</td><td>4</td><td>27882</td><td>4</td><td>3400</td><td>1</td></tr>\n",
       "<tr><td>175.389783072</td><td>17.0186553116</td><td>35186165778745948</td><td>262148</td><td>0</td><td>0</td><td>3400</td><td>0.466633580746</td><td>4</td><td>28230</td><td>4</td><td>3400</td><td>1</td></tr>\n",
       "</table>"
      ],
      "text/plain": [
       "<Table length=9>\n",
       "      RA           DEC           TARGETID     ... PRIORITY OBSCONDITIONS\n",
       "   float64       float64          int64       ...  int64       int32    \n",
       "------------- ------------- ----------------- ... -------- -------------\n",
       "175.358338455 2.82834728661 35185827130641806 ...        2             7\n",
       "161.632699344 11.6849594655 35186042583647168 ...     3400             1\n",
       "165.761079191 11.9375467863 35186048573113651 ...     3400             5\n",
       "177.194196895  12.062393253 35186048761859902 ...     3400             1\n",
       "161.382869727 12.5366379114 35186060317166607 ...        2             7\n",
       " 163.74201943 14.2736572006 35186101530397717 ...     3400             1\n",
       "177.016499723 14.3679191504 35186101748502946 ...     3400             1\n",
       "175.332046289 14.4957383573 35186107578583476 ...     3400             1\n",
       "175.389783072 17.0186553116 35186165778745948 ...     3400             1"
      ]
     },
     "execution_count": 42,
     "metadata": {},
     "output_type": "execute_result"
    }
   ],
   "source": [
    "in_mtl_large[:10]"
   ]
  },
  {
   "cell_type": "code",
   "execution_count": 43,
   "metadata": {},
   "outputs": [
    {
     "data": {
      "text/html": [
       "&lt;Table length=9&gt;\n",
       "<table id=\"table46913569476848\" class=\"table-striped table-bordered table-condensed\">\n",
       "<thead><tr><th>RA</th><th>DEC</th><th>TARGETID</th><th>DESI_TARGET</th><th>BGS_TARGET</th><th>MWS_TARGET</th><th>PRIORITY_INIT</th><th>SUBPRIORITY</th><th>NUMOBS_INIT</th><th>HPXPIXEL</th><th>NUMOBS_MORE</th><th>PRIORITY</th><th>OBSCONDITIONS</th></tr></thead>\n",
       "<thead><tr><th>float64</th><th>float64</th><th>int64</th><th>int64</th><th>int64</th><th>int64</th><th>int64</th><th>float64</th><th>int64</th><th>int64</th><th>int64</th><th>int64</th><th>int32</th></tr></thead>\n",
       "<tr><td>175.358338455</td><td>2.82834728661</td><td>35185827130641806</td><td>3458764522410737668</td><td>262148</td><td>1280</td><td>3400</td><td>0.304034474116</td><td>4</td><td>26999</td><td>4</td><td>3400</td><td>7</td></tr>\n",
       "<tr><td>161.632699344</td><td>11.6849594655</td><td>35186042583647168</td><td>262148</td><td>0</td><td>0</td><td>3400</td><td>0.066566431465</td><td>4</td><td>27512</td><td>4</td><td>3400</td><td>1</td></tr>\n",
       "<tr><td>165.761079191</td><td>11.9375467863</td><td>35186048573113651</td><td>1152921504607109124</td><td>262148</td><td>0</td><td>3400</td><td>0.986820059528</td><td>4</td><td>27509</td><td>4</td><td>3400</td><td>5</td></tr>\n",
       "<tr><td>177.194196895</td><td>12.062393253</td><td>35186048761859902</td><td>262148</td><td>0</td><td>0</td><td>3400</td><td>0.768395743079</td><td>4</td><td>27872</td><td>4</td><td>3400</td><td>1</td></tr>\n",
       "<tr><td>161.382869727</td><td>12.5366379114</td><td>35186060317166607</td><td>3458764531000672260</td><td>262148</td><td>2</td><td>3400</td><td>0.410806412807</td><td>4</td><td>27515</td><td>4</td><td>3400</td><td>7</td></tr>\n",
       "<tr><td>163.74201943</td><td>14.2736572006</td><td>35186101530397717</td><td>262148</td><td>0</td><td>0</td><td>3400</td><td>0.36198326493</td><td>4</td><td>28202</td><td>4</td><td>3400</td><td>1</td></tr>\n",
       "<tr><td>177.016499723</td><td>14.3679191504</td><td>35186101748502946</td><td>262148</td><td>0</td><td>0</td><td>3400</td><td>0.294375182193</td><td>4</td><td>27881</td><td>4</td><td>3400</td><td>1</td></tr>\n",
       "<tr><td>175.332046289</td><td>14.4957383573</td><td>35186107578583476</td><td>262148</td><td>0</td><td>0</td><td>3400</td><td>0.197275485253</td><td>4</td><td>27882</td><td>4</td><td>3400</td><td>1</td></tr>\n",
       "<tr><td>175.389783072</td><td>17.0186553116</td><td>35186165778745948</td><td>262148</td><td>0</td><td>0</td><td>3400</td><td>0.466633580746</td><td>4</td><td>28230</td><td>4</td><td>3400</td><td>1</td></tr>\n",
       "</table>"
      ],
      "text/plain": [
       "<Table length=9>\n",
       "      RA           DEC           TARGETID     ... PRIORITY OBSCONDITIONS\n",
       "   float64       float64          int64       ...  int64       int32    \n",
       "------------- ------------- ----------------- ... -------- -------------\n",
       "175.358338455 2.82834728661 35185827130641806 ...     3400             7\n",
       "161.632699344 11.6849594655 35186042583647168 ...     3400             1\n",
       "165.761079191 11.9375467863 35186048573113651 ...     3400             5\n",
       "177.194196895  12.062393253 35186048761859902 ...     3400             1\n",
       "161.382869727 12.5366379114 35186060317166607 ...     3400             7\n",
       " 163.74201943 14.2736572006 35186101530397717 ...     3400             1\n",
       "177.016499723 14.3679191504 35186101748502946 ...     3400             1\n",
       "175.332046289 14.4957383573 35186107578583476 ...     3400             1\n",
       "175.389783072 17.0186553116 35186165778745948 ...     3400             1"
      ]
     },
     "execution_count": 43,
     "metadata": {},
     "output_type": "execute_result"
    }
   ],
   "source": [
    "in_targets_large[:10]"
   ]
  },
  {
   "cell_type": "code",
   "execution_count": 44,
   "metadata": {},
   "outputs": [
    {
     "data": {
      "text/plain": [
       "{35185827130641806: ' QSO QSO_SOUTH STD_FAINT BGS_ANY MWS_ANY',\n",
       " 35186042583647168: ' QSO QSO_SOUTH',\n",
       " 35186048573113651: ' QSO QSO_SOUTH BGS_ANY',\n",
       " 35186048761859902: ' QSO QSO_SOUTH',\n",
       " 35186060317166607: ' QSO QSO_SOUTH STD_WD BGS_ANY MWS_ANY',\n",
       " 35186101530397717: ' QSO QSO_SOUTH',\n",
       " 35186101748502946: ' QSO QSO_SOUTH',\n",
       " 35186107578583476: ' QSO QSO_SOUTH',\n",
       " 35186165778745948: ' QSO QSO_SOUTH'}"
      ]
     },
     "execution_count": 44,
     "metadata": {},
     "output_type": "execute_result"
    }
   ],
   "source": [
    "name_id"
   ]
  },
  {
   "cell_type": "code",
   "execution_count": 45,
   "metadata": {},
   "outputs": [],
   "source": [
    "def consolidate_fassigned(fba_path):\n",
    "    fba_files = glob.glob(os.path.join(fba_path, 'tile-*fits'))\n",
    "\n",
    "    # getting all the targetids of the assigned fibers\n",
    "    print('reading individual fiberassign files')\n",
    "    favail = list()\n",
    "    for i_tile, tile_file in enumerate(fba_files):\n",
    "        if i_tile%50 ==0:\n",
    "            print(i_tile)\n",
    "        id_favail, header = fits.getdata(tile_file, 'FIBERASSIGN', header=True)\n",
    "        favail.extend(id_favail['TARGETID'])\n",
    "    return np.array(favail)"
   ]
  },
  {
   "cell_type": "code",
   "execution_count": 46,
   "metadata": {},
   "outputs": [
    {
     "name": "stdout",
     "output_type": "stream",
     "text": [
      "reading individual fiberassign files\n",
      "0\n",
      "reading individual fiberassign files\n",
      "0\n",
      "reading individual fiberassign files\n",
      "0\n",
      "50\n",
      "reading individual fiberassign files\n",
      "0\n",
      "50\n"
     ]
    }
   ],
   "source": [
    "mtl_names = {0:\"strategy_A/targets/gray_subset_dr8_mtl_dark_gray_northern_cap.fits\",\n",
    "             1:\"strategy_A/targets/dark0_subset_dr8_mtl_dark_gray_northern_cap.fits\",\n",
    "             2:\"strategy_A/targets/dark1_subset_dr8_mtl_dark_gray_northern_cap.fits\",\n",
    "             3:\"strategy_A/targets/dark2_dark3_subset_dr8_mtl_dark_gray_northern_cap.fits\"}\n",
    "zcat_names = {0:\"strategy_A/zcat/gray_zcat.fits\",\n",
    "             1:\"strategy_A/zcat/dark0_zcat.fits\",\n",
    "             2:\"strategy_A/zcat/dark1_zcat.fits\",\n",
    "             3:\"strategy_A/zcat/dark2_dark3_zcat.fits\"}\n",
    "tile_names = {0:'strategy_A/fiberassign_gray/', \n",
    "             1:'strategy_A/fiberassign_dark0/',\n",
    "             2:'strategy_A/fiberassign_dark1/',\n",
    "             3:'strategy_A/fiberassign_dark2_dark3/'}\n",
    "\n",
    "mtl_data = {}\n",
    "zcat_data = {}\n",
    "tile_data = {}\n",
    "tile_files = {}\n",
    "for k in mtl_names.keys():\n",
    "    mtl_data[k] = Table.read(mtl_names[k])\n",
    "    zcat_data[k] = Table.read(zcat_names[k])\n",
    "    tile_data[k] = consolidate_fassigned(tile_names[k])\n",
    "    tile_files[k] = glob.glob(os.path.join(tile_names[k], 'tile-*fits'))\n"
   ]
  },
  {
   "cell_type": "code",
   "execution_count": 47,
   "metadata": {},
   "outputs": [],
   "source": [
    "def print_stats(id_to_track):\n",
    "    print(\"ID_TO_TRACK\", id_to_track)\n",
    "    for k in range(4):\n",
    "        ii = mtl_data[k]['TARGETID']==id_to_track\n",
    "        jj = zcat_data[k]['TARGETID']==id_to_track\n",
    "        kk = np.count_nonzero(tile_data[k]==id_to_track)\n",
    "        fa = Table([[kk]], names=(['NFIBER']))\n",
    "        if(np.count_nonzero(jj)):\n",
    "            a = hstack((mtl_data[k][['PRIORITY', 'NUMOBS_MORE']][ii], fa, zcat_data[k][['NUMOBS']][jj]))\n",
    "        else:\n",
    "            a = hstack((mtl_data[k][['PRIORITY', 'NUMOBS_MORE']][ii], fa))      \n",
    "        print(a)\n",
    "    print()"
   ]
  },
  {
   "cell_type": "code",
   "execution_count": 48,
   "metadata": {},
   "outputs": [
    {
     "name": "stdout",
     "output_type": "stream",
     "text": [
      "ID_TO_TRACK 35185827130641806\n",
      "PRIORITY NUMOBS_MORE NFIBER NUMOBS\n",
      "-------- ----------- ------ ------\n",
      "    3400           4      1      1\n",
      "PRIORITY NUMOBS_MORE NFIBER NUMOBS\n",
      "-------- ----------- ------ ------\n",
      "       2           0      1      2\n",
      "PRIORITY NUMOBS_MORE NFIBER NUMOBS\n",
      "-------- ----------- ------ ------\n",
      "       2           0      1      3\n"
     ]
    },
    {
     "name": "stderr",
     "output_type": "stream",
     "text": [
      "WARNING: MergeConflictWarning: Cannot merge meta key 'EXTNAME' types <class 'str'> and <class 'str'>, choosing EXTNAME='ZCATALOG' [astropy.utils.metadata]\n"
     ]
    },
    {
     "name": "stdout",
     "output_type": "stream",
     "text": [
      "PRIORITY NUMOBS_MORE NFIBER NUMOBS\n",
      "-------- ----------- ------ ------\n",
      "       2           0      1      4\n",
      "\n",
      "ID_TO_TRACK 35186042583647168\n",
      "PRIORITY NUMOBS_MORE NFIBER\n",
      "-------- ----------- ------\n",
      "    3400           4      0\n",
      "PRIORITY NUMOBS_MORE NFIBER\n",
      "-------- ----------- ------\n",
      "    3400           4      0\n",
      "PRIORITY NUMOBS_MORE NFIBER\n",
      "-------- ----------- ------\n",
      "    3400           4      0\n",
      "PRIORITY NUMOBS_MORE NFIBER NUMOBS\n",
      "-------- ----------- ------ ------\n",
      "    3400           4      4      4\n",
      "\n",
      "ID_TO_TRACK 35186048573113651\n",
      "PRIORITY NUMOBS_MORE NFIBER\n",
      "-------- ----------- ------\n",
      "    3400           4      0\n",
      "PRIORITY NUMOBS_MORE NFIBER\n",
      "-------- ----------- ------\n",
      "    3400           4      0\n",
      "PRIORITY NUMOBS_MORE NFIBER\n",
      "-------- ----------- ------\n",
      "    3400           4      0\n",
      "PRIORITY NUMOBS_MORE NFIBER NUMOBS\n",
      "-------- ----------- ------ ------\n",
      "    3400           4      4      4\n",
      "\n",
      "ID_TO_TRACK 35186048761859902\n",
      "PRIORITY NUMOBS_MORE NFIBER\n",
      "-------- ----------- ------\n",
      "    3400           4      0\n",
      "PRIORITY NUMOBS_MORE NFIBER\n",
      "-------- ----------- ------\n",
      "    3400           4      0\n",
      "PRIORITY NUMOBS_MORE NFIBER\n",
      "-------- ----------- ------\n",
      "    3400           4      0\n",
      "PRIORITY NUMOBS_MORE NFIBER NUMOBS\n",
      "-------- ----------- ------ ------\n",
      "    3400           4      4      4\n",
      "\n",
      "ID_TO_TRACK 35186060317166607\n",
      "PRIORITY NUMOBS_MORE NFIBER NUMOBS\n",
      "-------- ----------- ------ ------\n",
      "    3400           4      1      1\n",
      "PRIORITY NUMOBS_MORE NFIBER NUMOBS\n",
      "-------- ----------- ------ ------\n",
      "       2           0      0      1\n",
      "PRIORITY NUMOBS_MORE NFIBER NUMOBS\n",
      "-------- ----------- ------ ------\n",
      "       2           0      1      2\n",
      "PRIORITY NUMOBS_MORE NFIBER NUMOBS\n",
      "-------- ----------- ------ ------\n",
      "       2           0      2      4\n",
      "\n",
      "ID_TO_TRACK 35186101530397717\n",
      "PRIORITY NUMOBS_MORE NFIBER\n",
      "-------- ----------- ------\n",
      "    3400           4      0\n",
      "PRIORITY NUMOBS_MORE NFIBER\n",
      "-------- ----------- ------\n",
      "    3400           4      0\n",
      "PRIORITY NUMOBS_MORE NFIBER\n",
      "-------- ----------- ------\n",
      "    3400           4      0\n",
      "PRIORITY NUMOBS_MORE NFIBER NUMOBS\n",
      "-------- ----------- ------ ------\n",
      "    3400           4      4      4\n",
      "\n",
      "ID_TO_TRACK 35186101748502946\n",
      "PRIORITY NUMOBS_MORE NFIBER\n",
      "-------- ----------- ------\n",
      "    3400           4      0\n",
      "PRIORITY NUMOBS_MORE NFIBER\n",
      "-------- ----------- ------\n",
      "    3400           4      0\n",
      "PRIORITY NUMOBS_MORE NFIBER\n",
      "-------- ----------- ------\n",
      "    3400           4      0\n",
      "PRIORITY NUMOBS_MORE NFIBER NUMOBS\n",
      "-------- ----------- ------ ------\n",
      "    3400           4      4      4\n",
      "\n",
      "ID_TO_TRACK 35186107578583476\n",
      "PRIORITY NUMOBS_MORE NFIBER\n",
      "-------- ----------- ------\n",
      "    3400           4      0\n",
      "PRIORITY NUMOBS_MORE NFIBER\n",
      "-------- ----------- ------\n",
      "    3400           4      0\n",
      "PRIORITY NUMOBS_MORE NFIBER\n",
      "-------- ----------- ------\n",
      "    3400           4      0\n",
      "PRIORITY NUMOBS_MORE NFIBER NUMOBS\n",
      "-------- ----------- ------ ------\n",
      "    3400           4      4      4\n",
      "\n",
      "ID_TO_TRACK 35186165778745948\n",
      "PRIORITY NUMOBS_MORE NFIBER\n",
      "-------- ----------- ------\n",
      "    3400           4      0\n",
      "PRIORITY NUMOBS_MORE NFIBER\n",
      "-------- ----------- ------\n",
      "    3400           4      0\n",
      "PRIORITY NUMOBS_MORE NFIBER\n",
      "-------- ----------- ------\n",
      "    3400           4      0\n",
      "PRIORITY NUMOBS_MORE NFIBER NUMOBS\n",
      "-------- ----------- ------ ------\n",
      "    3400           4      4      4\n",
      "\n"
     ]
    }
   ],
   "source": [
    "#ids_to_track = [35185796730325505, 35186182941835863, 35186188885166096, 35186188750949832, 35186194501340726, 35186107519861231]\n",
    "ids_to_track = [35185827130641806, 35185893358698744, 35186054600327316 , 35186107452755511, 35186165573224800]\n",
    "ids_to_track = [35185790698917045, 35185833006861227, 35185833027834038, 35185821090841787]\n",
    "ids_to_track = [35185796747101770, 35185796772268362, 35185796885515329, 35185796910679801]\n",
    "ids_to_track = [35185790673748964,35185790682139455, 35185790698917655, 35185790745053758, 35185814883271540]\n",
    "ids_to_track = [35185808809922194, 35185808826699688, 35185808856058923, 35185808872836871]\n",
    "ids_to_track = list(name_id.keys())\n",
    "\n",
    "for id_to_track in ids_to_track:\n",
    "    print_stats(id_to_track)"
   ]
  },
  {
   "cell_type": "code",
   "execution_count": 99,
   "metadata": {},
   "outputs": [
    {
     "name": "stdout",
     "output_type": "stream",
     "text": [
      "INFO:myquickcat.py:585:quickcat: Sat Sep 14 13:01:07 2019 QC Reading 98 tiles\n",
      "INFO:myquickcat.py:608:quickcat: Sat Sep 14 13:01:09 2019 QC Read 98 tiles\n",
      "INFO:myquickcat.py:630:quickcat: Sat Sep 14 13:01:09 2019 QC Trimming truth to just observed targets\n",
      "INFO:myquickcat.py:637:quickcat: Sat Sep 14 13:01:10 2019 QC Constructing new redshift catalog\n",
      "INFO:myquickcat.py:649:quickcat: Sat Sep 14 13:01:10 2019 QC Adding ZERR and ZWARN\n",
      "INFO:myquickcat.py:667:quickcat: Sat Sep 14 13:01:10 2019 QC Adding NUMOBS column\n",
      "nobs 1\n",
      "1. newzcat NUMOBS NUMOBS\n",
      "------\n",
      "     1\n",
      "1. zcat NUMOBS NUMOBS\n",
      "------\n",
      "     3\n",
      "INFO:myquickcat.py:680:quickcat: Sat Sep 14 13:01:12 2019 QC Merging previous zcat\n",
      "2. newzcat NUMOBS NUMOBS\n",
      "------\n",
      "     1\n",
      "2. zcat NUMOBS NUMOBS\n",
      "------\n",
      "     3\n",
      "3. newzcat NUMOBS NUMOBS\n",
      "------\n",
      "     4\n",
      "3. zcat NUMOBS NUMOBS\n",
      "------\n",
      "     4\n",
      "newzcat NUMOBS NUMOBS\n",
      "------\n",
      "     4\n",
      "INFO:myquickcat.py:738:quickcat: Sat Sep 14 13:01:14 2019 QC done\n"
     ]
    }
   ],
   "source": [
    "myquickcat = reload(myquickcat)\n",
    "new_zcat = myquickcat.quickcat(tile_files[3], mtl_data[3], truth, zcat=zcat_data[2], perfect=True)name_id"
   ]
  },
  {
   "cell_type": "code",
   "execution_count": 57,
   "metadata": {},
   "outputs": [
    {
     "name": "stdout",
     "output_type": "stream",
     "text": [
      "ID_TO_TRACK 35186188885166096\n",
      "NUMOBS\n",
      "------\n",
      "     3\n",
      "NUMOBS_MORE\n",
      "-----------\n",
      "          1\n",
      "NFIBER\n",
      "------\n",
      "     1\n",
      "NUMOBS\n",
      "------\n",
      "     5\n"
     ]
    }
   ],
   "source": [
    "id_to_track = ids_to_track[-4]\n",
    "pass_id = 3\n",
    "print('ID_TO_TRACK', id_to_track)\n",
    "\n",
    "ll = zcat_data[pass_id-1]['TARGETID']==id_to_track\n",
    "ii = mtl_data[pass_id]['TARGETID']==id_to_track\n",
    "jj = np.count_nonzero(tile_data[pass_id]==id_to_track)\n",
    "kk= new_zcat['TARGETID']==id_to_track\n",
    "fa = Table([[jj]], names=(['NFIBER']))\n",
    "\n",
    "print(zcat_data[pass_id-1]['NUMOBS'][ll])\n",
    "print(mtl_data[pass_id]['NUMOBS_MORE'][ii])\n",
    "print(fa)\n",
    "print(new_zcat['NUMOBS'][kk])\n",
    "\n"
   ]
  },
  {
   "cell_type": "code",
   "execution_count": null,
   "metadata": {},
   "outputs": [],
   "source": []
  }
 ],
 "metadata": {
  "kernelspec": {
   "display_name": "DESI master",
   "language": "python",
   "name": "desi-master"
  },
  "language_info": {
   "codemirror_mode": {
    "name": "ipython",
    "version": 3
   },
   "file_extension": ".py",
   "mimetype": "text/x-python",
   "name": "python",
   "nbconvert_exporter": "python",
   "pygments_lexer": "ipython3",
   "version": "3.6.6"
  }
 },
 "nbformat": 4,
 "nbformat_minor": 4
}
