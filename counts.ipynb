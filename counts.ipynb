{
 "cells": [
  {
   "cell_type": "code",
   "execution_count": 1,
   "metadata": {},
   "outputs": [],
   "source": [
    "from astropy.table import Table\n",
    "import numpy as np\n",
    "import matplotlib.pyplot as plt\n",
    "import glob\n",
    "import os\n",
    "import fitsio\n",
    "import desimodel.io\n",
    "import desitarget.mtl\n",
    "import desisim.quickcat\n",
    "from astropy.io import fits\n",
    "from astropy.table import Table, Column, vstack\n",
    "import json\n",
    "import shutil\n",
    "\n",
    "from desitarget.targetmask import desi_mask, obsconditions\n",
    "from collections import Counter\n",
    "import subprocess\n",
    "\n",
    "%matplotlib inline"
   ]
  },
  {
   "cell_type": "code",
   "execution_count": 2,
   "metadata": {},
   "outputs": [],
   "source": [
    "zcat = Table.read(\"strategy_A/zcat/dark2_dark3_zcat.fits\")"
   ]
  },
  {
   "cell_type": "code",
   "execution_count": 33,
   "metadata": {},
   "outputs": [],
   "source": [
    "zcat_large = zcat[zcat['NUMOBS']>5]"
   ]
  },
  {
   "cell_type": "code",
   "execution_count": 27,
   "metadata": {},
   "outputs": [],
   "source": [
    "targets = Table.read(\"targets/subset_dr8_mtl_dark_gray_NGC.fits\")"
   ]
  },
  {
   "cell_type": "code",
   "execution_count": 29,
   "metadata": {},
   "outputs": [
    {
     "name": "stdout",
     "output_type": "stream",
     "text": [
      "395895\n",
      "219986\n",
      "{1, 2, 3, 4, 5, 6}\n"
     ]
    }
   ],
   "source": [
    "only_qso_not_elg = ((targets['DESI_TARGET']&desi_mask.QSO)!=0)&(((targets['DESI_TARGET']&desi_mask.ELG)==0))\n",
    "print(np.count_nonzero(only_qso_not_elg))\n",
    "targets_qso = targets[only_qso_not_elg]\n",
    "ii_targets_qso = np.in1d(zcat['TARGETID'], targets_qso['TARGETID'])\n",
    "print(np.count_nonzero(ii_targets_qso))\n",
    "zcat_qso = zcat[ii_targets_qso]\n",
    "print(set(zcat_qso['NUMOBS']))"
   ]
  },
  {
   "cell_type": "code",
   "execution_count": 34,
   "metadata": {},
   "outputs": [],
   "source": [
    "ii_targets = np.in1d(targets['TARGETID'], zcat_large['TARGETID'])\n",
    "targets_large = targets[ii_targets]"
   ]
  },
  {
   "cell_type": "code",
   "execution_count": 39,
   "metadata": {},
   "outputs": [],
   "source": [
    "names = []\n",
    "for i in range(len(targets_large)):\n",
    "    n = desi_mask.names(targets_large['DESI_TARGET'][i])\n",
    "    if n not in names:\n",
    "        names.append(n)"
   ]
  },
  {
   "cell_type": "code",
   "execution_count": 40,
   "metadata": {},
   "outputs": [
    {
     "data": {
      "text/plain": [
       "[['ELG', 'QSO', 'ELG_SOUTH', 'QSO_SOUTH'],\n",
       " ['LRG', 'LRG_1PASS', 'LRG_SOUTH', 'LRG_1PASS_SOUTH', 'BGS_ANY'],\n",
       " ['STD_WD', 'MWS_ANY'],\n",
       " ['QSO', 'QSO_SOUTH', 'STD_WD', 'BGS_ANY', 'MWS_ANY'],\n",
       " ['STD_FAINT', 'MWS_ANY'],\n",
       " ['STD_WD', 'BGS_ANY', 'MWS_ANY']]"
      ]
     },
     "execution_count": 40,
     "metadata": {},
     "output_type": "execute_result"
    }
   ],
   "source": [
    "names"
   ]
  },
  {
   "cell_type": "code",
   "execution_count": null,
   "metadata": {},
   "outputs": [],
   "source": []
  }
 ],
 "metadata": {
  "kernelspec": {
   "display_name": "DESI master",
   "language": "python",
   "name": "desi-master"
  },
  "language_info": {
   "codemirror_mode": {
    "name": "ipython",
    "version": 3
   },
   "file_extension": ".py",
   "mimetype": "text/x-python",
   "name": "python",
   "nbconvert_exporter": "python",
   "pygments_lexer": "ipython3",
   "version": "3.6.6"
  }
 },
 "nbformat": 4,
 "nbformat_minor": 4
}
