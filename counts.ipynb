{
 "cells": [
  {
   "cell_type": "code",
   "execution_count": 8,
   "metadata": {},
   "outputs": [],
   "source": [
    "from astropy.table import Table\n",
    "import numpy as np\n",
    "import matplotlib.pyplot as plt\n",
    "import glob\n",
    "import os\n",
    "import fitsio\n",
    "import desimodel.io\n",
    "import desitarget.mtl\n",
    "import desisim.quickcat\n",
    "from astropy.io import fits\n",
    "from astropy.table import Table, Column, vstack\n",
    "import json\n",
    "import shutil\n",
    "\n",
    "from desitarget.targetmask import desi_mask, obsconditions\n",
    "from collections import Counter\n",
    "import subprocess\n",
    "\n",
    "%matplotlib inline"
   ]
  },
  {
   "cell_type": "code",
   "execution_count": 9,
   "metadata": {},
   "outputs": [
    {
     "name": "stdout",
     "output_type": "stream",
     "text": [
      "864670 864670 864670\n"
     ]
    }
   ],
   "source": [
    "full_targets = Table.read(\"targets/subset_dr8_mtl_dark_gray_NGC.fits\")\n",
    "zcat = Table.read(\"strategy_A/zcat/dark2_dark3_zcat.fits\")\n",
    "full_mtl = Table.read(\"strategy_A/targets/dark2_dark3_subset_dr8_mtl_dark_gray_northern_cap.fits\")\n",
    "\n",
    "ii = np.in1d(full_mtl['TARGETID'], zcat['TARGETID'])\n",
    "in_mtl = full_mtl[ii]\n",
    "\n",
    "ii = np.in1d(full_targets['TARGETID'], zcat['TARGETID'])\n",
    "in_targets = full_targets[ii]\n",
    "\n",
    "print(len(zcat), len(in_mtl), len(in_targets))\n",
    "in_mtl.sort(keys='TARGETID')\n",
    "zcat.sort(keys='TARGETID')\n",
    "in_targets.sort(keys='TARGETID')"
   ]
  },
  {
   "cell_type": "code",
   "execution_count": 10,
   "metadata": {},
   "outputs": [],
   "source": [
    "assert np.all(in_mtl['TARGETID']==zcat['TARGETID'])\n",
    "assert np.all(in_mtl['TARGETID']==in_targets['TARGETID'])"
   ]
  },
  {
   "cell_type": "code",
   "execution_count": 11,
   "metadata": {},
   "outputs": [],
   "source": [
    "zcat_large = zcat[(zcat['NUMOBS']>4) & (zcat['SPECTYPE']!='STAR')]\n",
    "in_mtl_large = in_mtl[(zcat['NUMOBS']>4) & (zcat['SPECTYPE']!='STAR')]\n",
    "in_targets_large = in_targets[(zcat['NUMOBS']>4) & (zcat['SPECTYPE']!='STAR')]"
   ]
  },
  {
   "cell_type": "code",
   "execution_count": 12,
   "metadata": {},
   "outputs": [],
   "source": [
    "names = {}\n",
    "for i in range(len(in_mtl_large)):\n",
    "    a = desi_mask.names(in_mtl_large['DESI_TARGET'][i])\n",
    "    n = ''\n",
    "    for aa in a:\n",
    "        n = n +' '+ aa\n",
    "    if n not in names.keys():\n",
    "        names[n] = 1\n",
    "    else:\n",
    "        names[n] += 1"
   ]
  },
  {
   "cell_type": "code",
   "execution_count": 13,
   "metadata": {},
   "outputs": [
    {
     "data": {
      "text/plain": [
       "{' QSO QSO_SOUTH BGS_ANY MWS_ANY': 520,\n",
       " ' ELG QSO ELG_SOUTH QSO_SOUTH': 4447,\n",
       " ' QSO QSO_SOUTH BGS_ANY': 376,\n",
       " ' QSO QSO_SOUTH': 2677,\n",
       " ' QSO QSO_SOUTH MWS_ANY': 49,\n",
       " ' ELG QSO ELG_SOUTH QSO_SOUTH BGS_ANY': 55,\n",
       " ' QSO QSO_SOUTH STD_WD BGS_ANY MWS_ANY': 8,\n",
       " ' QSO QSO_SOUTH STD_FAINT BGS_ANY MWS_ANY': 4,\n",
       " ' LRG QSO LRG_1PASS LRG_SOUTH QSO_SOUTH LRG_1PASS_SOUTH': 2,\n",
       " ' QSO QSO_SOUTH STD_WD MWS_ANY': 1}"
      ]
     },
     "execution_count": 13,
     "metadata": {},
     "output_type": "execute_result"
    }
   ],
   "source": [
    "names"
   ]
  },
  {
   "cell_type": "code",
   "execution_count": null,
   "metadata": {},
   "outputs": [],
   "source": []
  }
 ],
 "metadata": {
  "kernelspec": {
   "display_name": "DESI master",
   "language": "python",
   "name": "desi-master"
  },
  "language_info": {
   "codemirror_mode": {
    "name": "ipython",
    "version": 3
   },
   "file_extension": ".py",
   "mimetype": "text/x-python",
   "name": "python",
   "nbconvert_exporter": "python",
   "pygments_lexer": "ipython3",
   "version": "3.6.6"
  }
 },
 "nbformat": 4,
 "nbformat_minor": 4
}
