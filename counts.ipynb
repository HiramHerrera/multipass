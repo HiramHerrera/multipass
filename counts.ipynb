{
 "cells": [
  {
   "cell_type": "code",
   "execution_count": 38,
   "metadata": {},
   "outputs": [],
   "source": [
    "from astropy.table import Table\n",
    "import numpy as np\n",
    "import matplotlib.pyplot as plt\n",
    "import glob\n",
    "import os\n",
    "import fitsio\n",
    "import desimodel.io\n",
    "import desitarget.mtl\n",
    "import desisim.quickcat\n",
    "from astropy.io import fits\n",
    "from astropy.table import Table, Column, vstack\n",
    "import json\n",
    "import shutil\n",
    "\n",
    "from desitarget.targetmask import desi_mask, obsconditions\n",
    "from collections import Counter\n",
    "import subprocess\n",
    "\n",
    "%matplotlib inline"
   ]
  },
  {
   "cell_type": "code",
   "execution_count": 44,
   "metadata": {},
   "outputs": [
    {
     "name": "stdout",
     "output_type": "stream",
     "text": [
      "864678 864678 864678\n"
     ]
    }
   ],
   "source": [
    "full_targets = Table.read(\"targets/subset_dr8_mtl_dark_gray_NGC.fits\")\n",
    "zcat = Table.read(\"strategy_A/zcat/dark2_dark3_zcat.fits\")\n",
    "full_mtl = Table.read(\"strategy_A/targets/dark2_dark3_subset_dr8_mtl_dark_gray_northern_cap.fits\")\n",
    "\n",
    "ii = np.in1d(full_mtl['TARGETID'], zcat['TARGETID'])\n",
    "in_mtl = full_mtl[ii]\n",
    "\n",
    "ii = np.in1d(full_targets['TARGETID'], zcat['TARGETID'])\n",
    "in_targets = full_targets[ii]\n",
    "\n",
    "print(len(zcat), len(in_mtl), len(in_targets))\n",
    "in_mtl.sort(keys='TARGETID')\n",
    "zcat.sort(keys='TARGETID')\n",
    "in_targets.sort(keys='TARGETID')\n"
   ]
  },
  {
   "cell_type": "code",
   "execution_count": 45,
   "metadata": {},
   "outputs": [],
   "source": [
    "assert np.all(in_mtl['TARGETID']==zcat['TARGETID'])\n",
    "assert np.all(in_mtl['TARGETID']==in_targets['TARGETID'])"
   ]
  },
  {
   "cell_type": "code",
   "execution_count": 53,
   "metadata": {},
   "outputs": [
    {
     "name": "stdout",
     "output_type": "stream",
     "text": [
      "8021 0.9276285507437451\n"
     ]
    }
   ],
   "source": [
    "zcat_large = zcat[(zcat['NUMOBS']>4) & (zcat['SPECTYPE']!='STAR')]\n",
    "in_mtl_large = in_mtl[(zcat['NUMOBS']>4) & (zcat['SPECTYPE']!='STAR')]\n",
    "in_targets_large = in_targets[(zcat['NUMOBS']>4) & (zcat['SPECTYPE']!='STAR')]\n",
    "print(len(zcat_large), 100*len(zcat_large)/len(zcat))"
   ]
  },
  {
   "cell_type": "code",
   "execution_count": 47,
   "metadata": {},
   "outputs": [],
   "source": [
    "names = {}\n",
    "for i in range(len(in_mtl_large)):\n",
    "    a = desi_mask.names(in_mtl_large['DESI_TARGET'][i])\n",
    "    n = ''\n",
    "    for aa in a:\n",
    "        n = n +' '+ aa\n",
    "    if n not in names.keys():\n",
    "        names[n] = 1\n",
    "    else:\n",
    "        names[n] += 1"
   ]
  },
  {
   "cell_type": "code",
   "execution_count": 48,
   "metadata": {},
   "outputs": [
    {
     "data": {
      "text/plain": [
       "{' ELG QSO ELG_SOUTH QSO_SOUTH': 4439,\n",
       " ' QSO QSO_SOUTH BGS_ANY MWS_ANY': 517,\n",
       " ' QSO QSO_SOUTH': 2603,\n",
       " ' QSO QSO_SOUTH MWS_ANY': 53,\n",
       " ' QSO QSO_SOUTH BGS_ANY': 351,\n",
       " ' ELG QSO ELG_SOUTH QSO_SOUTH BGS_ANY': 41,\n",
       " ' LRG QSO LRG_1PASS LRG_SOUTH QSO_SOUTH LRG_1PASS_SOUTH': 2,\n",
       " ' QSO QSO_SOUTH STD_FAINT BGS_ANY MWS_ANY': 6,\n",
       " ' QSO QSO_SOUTH STD_WD BGS_ANY MWS_ANY': 7,\n",
       " ' QSO QSO_SOUTH STD_WD MWS_ANY': 1,\n",
       " ' QSO QSO_SOUTH STD_FAINT MWS_ANY': 1}"
      ]
     },
     "execution_count": 48,
     "metadata": {},
     "output_type": "execute_result"
    }
   ],
   "source": [
    "names"
   ]
  },
  {
   "cell_type": "code",
   "execution_count": 49,
   "metadata": {},
   "outputs": [
    {
     "data": {
      "text/html": [
       "&lt;Table length=10&gt;\n",
       "<table id=\"table46913644844256\" class=\"table-striped table-bordered table-condensed\">\n",
       "<thead><tr><th>TARGETID</th><th>BRICKNAME</th><th>SPECTYPE</th><th>Z</th><th>ZERR</th><th>ZWARN</th><th>NUMOBS</th></tr></thead>\n",
       "<thead><tr><th>int64</th><th>str8</th><th>str10</th><th>float32</th><th>float32</th><th>int32</th><th>int32</th></tr></thead>\n",
       "<tr><td>35185790652780503</td><td></td><td>QSO</td><td>3.0</td><td>0.0</td><td>0</td><td>5</td></tr>\n",
       "<tr><td>35185790665363616</td><td></td><td>QSO</td><td>3.0</td><td>0.0</td><td>0</td><td>5</td></tr>\n",
       "<tr><td>35185790707306633</td><td></td><td>QSO</td><td>3.0</td><td>0.0</td><td>0</td><td>5</td></tr>\n",
       "<tr><td>35185790732470865</td><td></td><td>QSO</td><td>3.0</td><td>0.0</td><td>0</td><td>5</td></tr>\n",
       "<tr><td>35185790745054525</td><td></td><td>QSO</td><td>3.0</td><td>0.0</td><td>0</td><td>5</td></tr>\n",
       "<tr><td>35185790816357934</td><td></td><td>QSO</td><td>3.0</td><td>0.0</td><td>0</td><td>5</td></tr>\n",
       "<tr><td>35185790816359084</td><td></td><td>QSO</td><td>3.0</td><td>0.0</td><td>0</td><td>5</td></tr>\n",
       "<tr><td>35185790820552713</td><td></td><td>QSO</td><td>3.0</td><td>0.0</td><td>0</td><td>5</td></tr>\n",
       "<tr><td>35185790917022354</td><td></td><td>QSO</td><td>3.0</td><td>0.0</td><td>0</td><td>5</td></tr>\n",
       "<tr><td>35185790933798754</td><td></td><td>QSO</td><td>3.0</td><td>0.0</td><td>0</td><td>5</td></tr>\n",
       "</table>"
      ],
      "text/plain": [
       "<Table length=10>\n",
       "     TARGETID     BRICKNAME SPECTYPE    Z      ZERR  ZWARN NUMOBS\n",
       "      int64          str8    str10   float32 float32 int32 int32 \n",
       "----------------- --------- -------- ------- ------- ----- ------\n",
       "35185790652780503                QSO     3.0     0.0     0      5\n",
       "35185790665363616                QSO     3.0     0.0     0      5\n",
       "35185790707306633                QSO     3.0     0.0     0      5\n",
       "35185790732470865                QSO     3.0     0.0     0      5\n",
       "35185790745054525                QSO     3.0     0.0     0      5\n",
       "35185790816357934                QSO     3.0     0.0     0      5\n",
       "35185790816359084                QSO     3.0     0.0     0      5\n",
       "35185790820552713                QSO     3.0     0.0     0      5\n",
       "35185790917022354                QSO     3.0     0.0     0      5\n",
       "35185790933798754                QSO     3.0     0.0     0      5"
      ]
     },
     "execution_count": 49,
     "metadata": {},
     "output_type": "execute_result"
    }
   ],
   "source": [
    "zcat_large[:10]"
   ]
  },
  {
   "cell_type": "code",
   "execution_count": 50,
   "metadata": {},
   "outputs": [
    {
     "data": {
      "text/html": [
       "&lt;Table length=10&gt;\n",
       "<table id=\"table46913645161160\" class=\"table-striped table-bordered table-condensed\">\n",
       "<thead><tr><th>RA</th><th>DEC</th><th>TARGETID</th><th>DESI_TARGET</th><th>BGS_TARGET</th><th>MWS_TARGET</th><th>PRIORITY_INIT</th><th>SUBPRIORITY</th><th>NUMOBS_INIT</th><th>HPXPIXEL</th><th>NUMOBS_MORE</th><th>PRIORITY</th><th>OBSCONDITIONS</th></tr></thead>\n",
       "<thead><tr><th>float64</th><th>float64</th><th>int64</th><th>int64</th><th>int64</th><th>int64</th><th>int64</th><th>float64</th><th>int64</th><th>int64</th><th>int64</th><th>int64</th><th>int32</th></tr></thead>\n",
       "<tr><td>161.233002888</td><td>1.33364370003</td><td>35185790652780503</td><td>393222</td><td>0</td><td>0</td><td>3400</td><td>0.602985043769</td><td>4</td><td>27053</td><td>1</td><td>3500</td><td>3</td></tr>\n",
       "<tr><td>161.865398347</td><td>1.34992244019</td><td>35185790665363616</td><td>393222</td><td>0</td><td>0</td><td>3400</td><td>0.0800550574739</td><td>4</td><td>27064</td><td>1</td><td>3500</td><td>3</td></tr>\n",
       "<tr><td>164.414569492</td><td>1.33908312179</td><td>35185790707306633</td><td>3458764513820803076</td><td>262148</td><td>1280</td><td>3400</td><td>0.304924297211</td><td>4</td><td>27060</td><td>1</td><td>3500</td><td>7</td></tr>\n",
       "<tr><td>165.932626383</td><td>1.30130967706</td><td>35185790732470865</td><td>393222</td><td>0</td><td>0</td><td>3400</td><td>0.501065628796</td><td>4</td><td>27039</td><td>1</td><td>3500</td><td>3</td></tr>\n",
       "<tr><td>166.627521067</td><td>1.30882467511</td><td>35185790745054525</td><td>393222</td><td>0</td><td>0</td><td>3400</td><td>0.605197366581</td><td>4</td><td>27037</td><td>1</td><td>3500</td><td>3</td></tr>\n",
       "<tr><td>170.975000174</td><td>1.29897024369</td><td>35185790816357934</td><td>393222</td><td>0</td><td>0</td><td>3400</td><td>0.279449473743</td><td>4</td><td>26990</td><td>1</td><td>3500</td><td>3</td></tr>\n",
       "<tr><td>170.903985456</td><td>1.34799845752</td><td>35185790816359084</td><td>262148</td><td>0</td><td>0</td><td>3400</td><td>0.796655278902</td><td>4</td><td>26990</td><td>1</td><td>3500</td><td>1</td></tr>\n",
       "<tr><td>171.24441092</td><td>1.33499597276</td><td>35185790820552713</td><td>393222</td><td>0</td><td>0</td><td>3400</td><td>0.748109124999</td><td>4</td><td>26990</td><td>1</td><td>3500</td><td>3</td></tr>\n",
       "<tr><td>176.883939346</td><td>1.36774842585</td><td>35185790917022354</td><td>393222</td><td>0</td><td>0</td><td>3400</td><td>0.564418442139</td><td>4</td><td>26974</td><td>1</td><td>3500</td><td>3</td></tr>\n",
       "<tr><td>177.95208658</td><td>1.32911504272</td><td>35185790933798754</td><td>393222</td><td>0</td><td>0</td><td>3400</td><td>0.306739861525</td><td>4</td><td>26973</td><td>1</td><td>3500</td><td>3</td></tr>\n",
       "</table>"
      ],
      "text/plain": [
       "<Table length=10>\n",
       "      RA           DEC           TARGETID     ... PRIORITY OBSCONDITIONS\n",
       "   float64       float64          int64       ...  int64       int32    \n",
       "------------- ------------- ----------------- ... -------- -------------\n",
       "161.233002888 1.33364370003 35185790652780503 ...     3500             3\n",
       "161.865398347 1.34992244019 35185790665363616 ...     3500             3\n",
       "164.414569492 1.33908312179 35185790707306633 ...     3500             7\n",
       "165.932626383 1.30130967706 35185790732470865 ...     3500             3\n",
       "166.627521067 1.30882467511 35185790745054525 ...     3500             3\n",
       "170.975000174 1.29897024369 35185790816357934 ...     3500             3\n",
       "170.903985456 1.34799845752 35185790816359084 ...     3500             1\n",
       " 171.24441092 1.33499597276 35185790820552713 ...     3500             3\n",
       "176.883939346 1.36774842585 35185790917022354 ...     3500             3\n",
       " 177.95208658 1.32911504272 35185790933798754 ...     3500             3"
      ]
     },
     "execution_count": 50,
     "metadata": {},
     "output_type": "execute_result"
    }
   ],
   "source": [
    "in_mtl_large[:10]"
   ]
  },
  {
   "cell_type": "code",
   "execution_count": 51,
   "metadata": {},
   "outputs": [
    {
     "data": {
      "text/html": [
       "&lt;Table length=10&gt;\n",
       "<table id=\"table46913645160264\" class=\"table-striped table-bordered table-condensed\">\n",
       "<thead><tr><th>RA</th><th>DEC</th><th>TARGETID</th><th>DESI_TARGET</th><th>BGS_TARGET</th><th>MWS_TARGET</th><th>PRIORITY_INIT</th><th>SUBPRIORITY</th><th>NUMOBS_INIT</th><th>HPXPIXEL</th><th>NUMOBS_MORE</th><th>PRIORITY</th><th>OBSCONDITIONS</th></tr></thead>\n",
       "<thead><tr><th>float64</th><th>float64</th><th>int64</th><th>int64</th><th>int64</th><th>int64</th><th>int64</th><th>float64</th><th>int64</th><th>int64</th><th>int64</th><th>int64</th><th>int32</th></tr></thead>\n",
       "<tr><td>161.233002888</td><td>1.33364370003</td><td>35185790652780503</td><td>393222</td><td>0</td><td>0</td><td>3400</td><td>0.602985043769</td><td>4</td><td>27053</td><td>4</td><td>3400</td><td>3</td></tr>\n",
       "<tr><td>161.865398347</td><td>1.34992244019</td><td>35185790665363616</td><td>393222</td><td>0</td><td>0</td><td>3400</td><td>0.0800550574739</td><td>4</td><td>27064</td><td>4</td><td>3400</td><td>3</td></tr>\n",
       "<tr><td>164.414569492</td><td>1.33908312179</td><td>35185790707306633</td><td>3458764513820803076</td><td>262148</td><td>1280</td><td>3400</td><td>0.304924297211</td><td>4</td><td>27060</td><td>4</td><td>3400</td><td>7</td></tr>\n",
       "<tr><td>165.932626383</td><td>1.30130967706</td><td>35185790732470865</td><td>393222</td><td>0</td><td>0</td><td>3400</td><td>0.501065628796</td><td>4</td><td>27039</td><td>4</td><td>3400</td><td>3</td></tr>\n",
       "<tr><td>166.627521067</td><td>1.30882467511</td><td>35185790745054525</td><td>393222</td><td>0</td><td>0</td><td>3400</td><td>0.605197366581</td><td>4</td><td>27037</td><td>4</td><td>3400</td><td>3</td></tr>\n",
       "<tr><td>170.975000174</td><td>1.29897024369</td><td>35185790816357934</td><td>393222</td><td>0</td><td>0</td><td>3400</td><td>0.279449473743</td><td>4</td><td>26990</td><td>4</td><td>3400</td><td>3</td></tr>\n",
       "<tr><td>170.903985456</td><td>1.34799845752</td><td>35185790816359084</td><td>262148</td><td>0</td><td>0</td><td>3400</td><td>0.796655278902</td><td>4</td><td>26990</td><td>4</td><td>3400</td><td>1</td></tr>\n",
       "<tr><td>171.24441092</td><td>1.33499597276</td><td>35185790820552713</td><td>393222</td><td>0</td><td>0</td><td>3400</td><td>0.748109124999</td><td>4</td><td>26990</td><td>4</td><td>3400</td><td>3</td></tr>\n",
       "<tr><td>176.883939346</td><td>1.36774842585</td><td>35185790917022354</td><td>393222</td><td>0</td><td>0</td><td>3400</td><td>0.564418442139</td><td>4</td><td>26974</td><td>4</td><td>3400</td><td>3</td></tr>\n",
       "<tr><td>177.95208658</td><td>1.32911504272</td><td>35185790933798754</td><td>393222</td><td>0</td><td>0</td><td>3400</td><td>0.306739861525</td><td>4</td><td>26973</td><td>4</td><td>3400</td><td>3</td></tr>\n",
       "</table>"
      ],
      "text/plain": [
       "<Table length=10>\n",
       "      RA           DEC           TARGETID     ... PRIORITY OBSCONDITIONS\n",
       "   float64       float64          int64       ...  int64       int32    \n",
       "------------- ------------- ----------------- ... -------- -------------\n",
       "161.233002888 1.33364370003 35185790652780503 ...     3400             3\n",
       "161.865398347 1.34992244019 35185790665363616 ...     3400             3\n",
       "164.414569492 1.33908312179 35185790707306633 ...     3400             7\n",
       "165.932626383 1.30130967706 35185790732470865 ...     3400             3\n",
       "166.627521067 1.30882467511 35185790745054525 ...     3400             3\n",
       "170.975000174 1.29897024369 35185790816357934 ...     3400             3\n",
       "170.903985456 1.34799845752 35185790816359084 ...     3400             1\n",
       " 171.24441092 1.33499597276 35185790820552713 ...     3400             3\n",
       "176.883939346 1.36774842585 35185790917022354 ...     3400             3\n",
       " 177.95208658 1.32911504272 35185790933798754 ...     3400             3"
      ]
     },
     "execution_count": 51,
     "metadata": {},
     "output_type": "execute_result"
    }
   ],
   "source": [
    "in_targets_large[:10]"
   ]
  },
  {
   "cell_type": "code",
   "execution_count": null,
   "metadata": {},
   "outputs": [],
   "source": []
  },
  {
   "cell_type": "code",
   "execution_count": null,
   "metadata": {},
   "outputs": [],
   "source": []
  }
 ],
 "metadata": {
  "kernelspec": {
   "display_name": "DESI master",
   "language": "python",
   "name": "desi-master"
  },
  "language_info": {
   "codemirror_mode": {
    "name": "ipython",
    "version": 3
   },
   "file_extension": ".py",
   "mimetype": "text/x-python",
   "name": "python",
   "nbconvert_exporter": "python",
   "pygments_lexer": "ipython3",
   "version": "3.6.6"
  }
 },
 "nbformat": 4,
 "nbformat_minor": 4
}
