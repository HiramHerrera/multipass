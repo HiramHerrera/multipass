{
 "cells": [
  {
   "cell_type": "code",
   "execution_count": 1,
   "metadata": {},
   "outputs": [],
   "source": [
    "from astropy.table import Table\n",
    "import numpy as np\n",
    "import matplotlib.pyplot as plt\n",
    "import glob\n",
    "import os\n",
    "import fitsio\n",
    "import desimodel.io\n",
    "import desitarget.mtl\n",
    "import desisim.quickcat\n",
    "from astropy.io import fits\n",
    "from astropy.table import Table, Column, vstack\n",
    "import json\n",
    "import shutil\n",
    "\n",
    "from desitarget.targetmask import desi_mask, obsconditions\n",
    "from collections import Counter\n",
    "import subprocess\n",
    "\n",
    "%matplotlib inline"
   ]
  },
  {
   "cell_type": "code",
   "execution_count": 2,
   "metadata": {},
   "outputs": [
    {
     "name": "stdout",
     "output_type": "stream",
     "text": [
      "1023458 1023458 1023458\n"
     ]
    }
   ],
   "source": [
    "full_targets = Table.read(\"targets/subset_dr8_mtl_dark_gray_NGC.fits\")\n",
    "zcat = Table.read(\"strategy_A/zcat/dark2_dark3_zcat.fits\")\n",
    "full_mtl = Table.read(\"strategy_A/targets/dark2_dark3_subset_dr8_mtl_dark_gray_northern_cap.fits\")\n",
    "\n",
    "ii = np.in1d(full_mtl['TARGETID'], zcat['TARGETID'])\n",
    "in_mtl = full_mtl[ii]\n",
    "\n",
    "ii = np.in1d(full_targets['TARGETID'], zcat['TARGETID'])\n",
    "in_targets = full_targets[ii]\n",
    "\n",
    "print(len(zcat), len(in_mtl), len(in_targets))\n",
    "in_mtl.sort(keys='TARGETID')\n",
    "zcat.sort(keys='TARGETID')\n",
    "in_targets.sort(keys='TARGETID')\n"
   ]
  },
  {
   "cell_type": "code",
   "execution_count": 3,
   "metadata": {},
   "outputs": [],
   "source": [
    "assert np.all(in_mtl['TARGETID']==zcat['TARGETID'])\n",
    "assert np.all(in_mtl['TARGETID']==in_targets['TARGETID'])"
   ]
  },
  {
   "cell_type": "code",
   "execution_count": 4,
   "metadata": {},
   "outputs": [
    {
     "name": "stdout",
     "output_type": "stream",
     "text": [
      "1060 0.10357044451262289\n"
     ]
    }
   ],
   "source": [
    "zcat_large = zcat[(zcat['NUMOBS']>4) & (zcat['SPECTYPE']!='STAR')]\n",
    "in_mtl_large = in_mtl[(zcat['NUMOBS']>4) & (zcat['SPECTYPE']!='STAR')]\n",
    "in_targets_large = in_targets[(zcat['NUMOBS']>4) & (zcat['SPECTYPE']!='STAR')]\n",
    "print(len(zcat_large), 100*len(zcat_large)/len(zcat))"
   ]
  },
  {
   "cell_type": "code",
   "execution_count": 5,
   "metadata": {},
   "outputs": [],
   "source": [
    "names = {}\n",
    "for i in range(len(in_mtl_large)):\n",
    "    a = desi_mask.names(in_mtl_large['DESI_TARGET'][i])\n",
    "    n = ''\n",
    "    for aa in a:\n",
    "        n = n +' '+ aa\n",
    "    if n not in names.keys():\n",
    "        names[n] = 1\n",
    "    else:\n",
    "        names[n] += 1"
   ]
  },
  {
   "cell_type": "code",
   "execution_count": 6,
   "metadata": {},
   "outputs": [
    {
     "data": {
      "text/plain": [
       "{' ELG QSO ELG_SOUTH QSO_SOUTH': 603,\n",
       " ' QSO QSO_SOUTH BGS_ANY MWS_ANY': 72,\n",
       " ' QSO QSO_SOUTH BGS_ANY': 41,\n",
       " ' QSO QSO_SOUTH MWS_ANY': 8,\n",
       " ' QSO QSO_SOUTH': 320,\n",
       " ' ELG QSO ELG_SOUTH QSO_SOUTH BGS_ANY': 11,\n",
       " ' LRG LRG_2PASS LRG_SOUTH LRG_2PASS_SOUTH': 1,\n",
       " ' QSO QSO_SOUTH STD_FAINT BGS_ANY MWS_ANY': 3,\n",
       " ' QSO QSO_SOUTH STD_FAINT MWS_ANY': 1}"
      ]
     },
     "execution_count": 6,
     "metadata": {},
     "output_type": "execute_result"
    }
   ],
   "source": [
    "names"
   ]
  },
  {
   "cell_type": "code",
   "execution_count": 7,
   "metadata": {},
   "outputs": [
    {
     "data": {
      "text/html": [
       "&lt;Table length=10&gt;\n",
       "<table id=\"table46913644341288\" class=\"table-striped table-bordered table-condensed\">\n",
       "<thead><tr><th>TARGETID</th><th>BRICKNAME</th><th>SPECTYPE</th><th>Z</th><th>ZERR</th><th>ZWARN</th><th>NUMOBS</th></tr></thead>\n",
       "<thead><tr><th>int64</th><th>str8</th><th>str10</th><th>float32</th><th>float32</th><th>int32</th><th>int32</th></tr></thead>\n",
       "<tr><td>35185796730325505</td><td></td><td>QSO</td><td>3.0</td><td>0.0</td><td>0</td><td>5</td></tr>\n",
       "<tr><td>35185796747102440</td><td></td><td>QSO</td><td>3.0</td><td>0.0</td><td>0</td><td>5</td></tr>\n",
       "<tr><td>35185796789044894</td><td></td><td>QSO</td><td>3.0</td><td>0.0</td><td>0</td><td>5</td></tr>\n",
       "<tr><td>35185796789047055</td><td></td><td>QSO</td><td>3.0</td><td>0.0</td><td>0</td><td>5</td></tr>\n",
       "<tr><td>35185796851960484</td><td></td><td>QSO</td><td>3.0</td><td>0.0</td><td>0</td><td>5</td></tr>\n",
       "<tr><td>35185796868739057</td><td></td><td>QSO</td><td>3.0</td><td>0.0</td><td>0</td><td>5</td></tr>\n",
       "<tr><td>35185796881321222</td><td></td><td>QSO</td><td>3.0</td><td>0.0</td><td>0</td><td>5</td></tr>\n",
       "<tr><td>35185796885515606</td><td></td><td>QSO</td><td>3.0</td><td>0.0</td><td>0</td><td>5</td></tr>\n",
       "<tr><td>35185796898098931</td><td></td><td>QSO</td><td>3.0</td><td>0.0</td><td>0</td><td>5</td></tr>\n",
       "<tr><td>35185796906485601</td><td></td><td>QSO</td><td>3.0</td><td>0.0</td><td>0</td><td>5</td></tr>\n",
       "</table>"
      ],
      "text/plain": [
       "<Table length=10>\n",
       "     TARGETID     BRICKNAME SPECTYPE    Z      ZERR  ZWARN NUMOBS\n",
       "      int64          str8    str10   float32 float32 int32 int32 \n",
       "----------------- --------- -------- ------- ------- ----- ------\n",
       "35185796730325505                QSO     3.0     0.0     0      5\n",
       "35185796747102440                QSO     3.0     0.0     0      5\n",
       "35185796789044894                QSO     3.0     0.0     0      5\n",
       "35185796789047055                QSO     3.0     0.0     0      5\n",
       "35185796851960484                QSO     3.0     0.0     0      5\n",
       "35185796868739057                QSO     3.0     0.0     0      5\n",
       "35185796881321222                QSO     3.0     0.0     0      5\n",
       "35185796885515606                QSO     3.0     0.0     0      5\n",
       "35185796898098931                QSO     3.0     0.0     0      5\n",
       "35185796906485601                QSO     3.0     0.0     0      5"
      ]
     },
     "execution_count": 7,
     "metadata": {},
     "output_type": "execute_result"
    }
   ],
   "source": [
    "zcat_large[:10]"
   ]
  },
  {
   "cell_type": "code",
   "execution_count": 8,
   "metadata": {},
   "outputs": [
    {
     "data": {
      "text/html": [
       "&lt;Table length=10&gt;\n",
       "<table id=\"table46913644340896\" class=\"table-striped table-bordered table-condensed\">\n",
       "<thead><tr><th>RA</th><th>DEC</th><th>TARGETID</th><th>DESI_TARGET</th><th>BGS_TARGET</th><th>MWS_TARGET</th><th>PRIORITY_INIT</th><th>SUBPRIORITY</th><th>NUMOBS_INIT</th><th>HPXPIXEL</th><th>NUMOBS_MORE</th><th>PRIORITY</th><th>OBSCONDITIONS</th></tr></thead>\n",
       "<thead><tr><th>float64</th><th>float64</th><th>int64</th><th>int64</th><th>int64</th><th>int64</th><th>int64</th><th>float64</th><th>int64</th><th>int64</th><th>int64</th><th>int64</th><th>int32</th></tr></thead>\n",
       "<tr><td>163.489546376</td><td>1.49643925801</td><td>35185796730325505</td><td>393222</td><td>0</td><td>0</td><td>3400</td><td>0.278426456519</td><td>4</td><td>27057</td><td>1</td><td>3500</td><td>3</td></tr>\n",
       "<tr><td>164.436610671</td><td>1.48944345901</td><td>35185796747102440</td><td>3458764513820803076</td><td>262148</td><td>1280</td><td>3400</td><td>0.933516791912</td><td>4</td><td>27060</td><td>1</td><td>3500</td><td>7</td></tr>\n",
       "<tr><td>166.899619394</td><td>1.45612873377</td><td>35185796789044894</td><td>393222</td><td>0</td><td>0</td><td>3400</td><td>0.670585445083</td><td>4</td><td>27037</td><td>1</td><td>3500</td><td>3</td></tr>\n",
       "<tr><td>166.839541836</td><td>1.56063350785</td><td>35185796789047055</td><td>393222</td><td>0</td><td>0</td><td>3400</td><td>0.91003790398</td><td>4</td><td>27037</td><td>1</td><td>3500</td><td>3</td></tr>\n",
       "<tr><td>170.707188463</td><td>1.51110422127</td><td>35185796851960484</td><td>393222</td><td>0</td><td>0</td><td>3400</td><td>0.797581941387</td><td>4</td><td>26990</td><td>1</td><td>3500</td><td>3</td></tr>\n",
       "<tr><td>171.652835438</td><td>1.58829568805</td><td>35185796868739057</td><td>393222</td><td>0</td><td>0</td><td>3400</td><td>0.834028952502</td><td>4</td><td>26991</td><td>1</td><td>3500</td><td>3</td></tr>\n",
       "<tr><td>172.490248608</td><td>1.57112594959</td><td>35185796881321222</td><td>1152921504607109124</td><td>262148</td><td>0</td><td>3400</td><td>0.549945419568</td><td>4</td><td>26989</td><td>2</td><td>3500</td><td>5</td></tr>\n",
       "<tr><td>172.540803468</td><td>1.5580209201</td><td>35185796885515606</td><td>2305843009213956100</td><td>0</td><td>1280</td><td>3400</td><td>0.569529570617</td><td>4</td><td>27000</td><td>1</td><td>3500</td><td>7</td></tr>\n",
       "<tr><td>173.298690723</td><td>1.58706829616</td><td>35185796898098931</td><td>393222</td><td>0</td><td>0</td><td>3400</td><td>0.564591717252</td><td>4</td><td>27000</td><td>1</td><td>3500</td><td>3</td></tr>\n",
       "<tr><td>173.989331949</td><td>1.48076331436</td><td>35185796906485601</td><td>393222</td><td>0</td><td>0</td><td>3400</td><td>0.546124549846</td><td>4</td><td>26994</td><td>1</td><td>3500</td><td>3</td></tr>\n",
       "</table>"
      ],
      "text/plain": [
       "<Table length=10>\n",
       "      RA           DEC           TARGETID     ... PRIORITY OBSCONDITIONS\n",
       "   float64       float64          int64       ...  int64       int32    \n",
       "------------- ------------- ----------------- ... -------- -------------\n",
       "163.489546376 1.49643925801 35185796730325505 ...     3500             3\n",
       "164.436610671 1.48944345901 35185796747102440 ...     3500             7\n",
       "166.899619394 1.45612873377 35185796789044894 ...     3500             3\n",
       "166.839541836 1.56063350785 35185796789047055 ...     3500             3\n",
       "170.707188463 1.51110422127 35185796851960484 ...     3500             3\n",
       "171.652835438 1.58829568805 35185796868739057 ...     3500             3\n",
       "172.490248608 1.57112594959 35185796881321222 ...     3500             5\n",
       "172.540803468  1.5580209201 35185796885515606 ...     3500             7\n",
       "173.298690723 1.58706829616 35185796898098931 ...     3500             3\n",
       "173.989331949 1.48076331436 35185796906485601 ...     3500             3"
      ]
     },
     "execution_count": 8,
     "metadata": {},
     "output_type": "execute_result"
    }
   ],
   "source": [
    "in_mtl_large[:10]"
   ]
  },
  {
   "cell_type": "code",
   "execution_count": 9,
   "metadata": {},
   "outputs": [
    {
     "data": {
      "text/html": [
       "&lt;Table length=10&gt;\n",
       "<table id=\"table46913644207632\" class=\"table-striped table-bordered table-condensed\">\n",
       "<thead><tr><th>RA</th><th>DEC</th><th>TARGETID</th><th>DESI_TARGET</th><th>BGS_TARGET</th><th>MWS_TARGET</th><th>PRIORITY_INIT</th><th>SUBPRIORITY</th><th>NUMOBS_INIT</th><th>HPXPIXEL</th><th>NUMOBS_MORE</th><th>PRIORITY</th><th>OBSCONDITIONS</th></tr></thead>\n",
       "<thead><tr><th>float64</th><th>float64</th><th>int64</th><th>int64</th><th>int64</th><th>int64</th><th>int64</th><th>float64</th><th>int64</th><th>int64</th><th>int64</th><th>int64</th><th>int32</th></tr></thead>\n",
       "<tr><td>163.489546376</td><td>1.49643925801</td><td>35185796730325505</td><td>393222</td><td>0</td><td>0</td><td>3400</td><td>0.278426456519</td><td>4</td><td>27057</td><td>4</td><td>3400</td><td>3</td></tr>\n",
       "<tr><td>164.436610671</td><td>1.48944345901</td><td>35185796747102440</td><td>3458764513820803076</td><td>262148</td><td>1280</td><td>3400</td><td>0.933516791912</td><td>4</td><td>27060</td><td>4</td><td>3400</td><td>7</td></tr>\n",
       "<tr><td>166.899619394</td><td>1.45612873377</td><td>35185796789044894</td><td>393222</td><td>0</td><td>0</td><td>3400</td><td>0.670585445083</td><td>4</td><td>27037</td><td>4</td><td>3400</td><td>3</td></tr>\n",
       "<tr><td>166.839541836</td><td>1.56063350785</td><td>35185796789047055</td><td>393222</td><td>0</td><td>0</td><td>3400</td><td>0.91003790398</td><td>4</td><td>27037</td><td>4</td><td>3400</td><td>3</td></tr>\n",
       "<tr><td>170.707188463</td><td>1.51110422127</td><td>35185796851960484</td><td>393222</td><td>0</td><td>0</td><td>3400</td><td>0.797581941387</td><td>4</td><td>26990</td><td>4</td><td>3400</td><td>3</td></tr>\n",
       "<tr><td>171.652835438</td><td>1.58829568805</td><td>35185796868739057</td><td>393222</td><td>0</td><td>0</td><td>3400</td><td>0.834028952502</td><td>4</td><td>26991</td><td>4</td><td>3400</td><td>3</td></tr>\n",
       "<tr><td>172.490248608</td><td>1.57112594959</td><td>35185796881321222</td><td>1152921504607109124</td><td>262148</td><td>0</td><td>3400</td><td>0.549945419568</td><td>4</td><td>26989</td><td>4</td><td>3400</td><td>5</td></tr>\n",
       "<tr><td>172.540803468</td><td>1.5580209201</td><td>35185796885515606</td><td>2305843009213956100</td><td>0</td><td>1280</td><td>3400</td><td>0.569529570617</td><td>4</td><td>27000</td><td>4</td><td>3400</td><td>7</td></tr>\n",
       "<tr><td>173.298690723</td><td>1.58706829616</td><td>35185796898098931</td><td>393222</td><td>0</td><td>0</td><td>3400</td><td>0.564591717252</td><td>4</td><td>27000</td><td>4</td><td>3400</td><td>3</td></tr>\n",
       "<tr><td>173.989331949</td><td>1.48076331436</td><td>35185796906485601</td><td>393222</td><td>0</td><td>0</td><td>3400</td><td>0.546124549846</td><td>4</td><td>26994</td><td>4</td><td>3400</td><td>3</td></tr>\n",
       "</table>"
      ],
      "text/plain": [
       "<Table length=10>\n",
       "      RA           DEC           TARGETID     ... PRIORITY OBSCONDITIONS\n",
       "   float64       float64          int64       ...  int64       int32    \n",
       "------------- ------------- ----------------- ... -------- -------------\n",
       "163.489546376 1.49643925801 35185796730325505 ...     3400             3\n",
       "164.436610671 1.48944345901 35185796747102440 ...     3400             7\n",
       "166.899619394 1.45612873377 35185796789044894 ...     3400             3\n",
       "166.839541836 1.56063350785 35185796789047055 ...     3400             3\n",
       "170.707188463 1.51110422127 35185796851960484 ...     3400             3\n",
       "171.652835438 1.58829568805 35185796868739057 ...     3400             3\n",
       "172.490248608 1.57112594959 35185796881321222 ...     3400             5\n",
       "172.540803468  1.5580209201 35185796885515606 ...     3400             7\n",
       "173.298690723 1.58706829616 35185796898098931 ...     3400             3\n",
       "173.989331949 1.48076331436 35185796906485601 ...     3400             3"
      ]
     },
     "execution_count": 9,
     "metadata": {},
     "output_type": "execute_result"
    }
   ],
   "source": [
    "in_targets_large[:10]"
   ]
  },
  {
   "cell_type": "code",
   "execution_count": null,
   "metadata": {},
   "outputs": [],
   "source": []
  },
  {
   "cell_type": "code",
   "execution_count": null,
   "metadata": {},
   "outputs": [],
   "source": []
  }
 ],
 "metadata": {
  "kernelspec": {
   "display_name": "DESI master",
   "language": "python",
   "name": "desi-master"
  },
  "language_info": {
   "codemirror_mode": {
    "name": "ipython",
    "version": 3
   },
   "file_extension": ".py",
   "mimetype": "text/x-python",
   "name": "python",
   "nbconvert_exporter": "python",
   "pygments_lexer": "ipython3",
   "version": "3.6.6"
  }
 },
 "nbformat": 4,
 "nbformat_minor": 4
}
